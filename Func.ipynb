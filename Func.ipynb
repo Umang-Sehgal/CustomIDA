{
 "cells": [
  {
   "cell_type": "code",
   "execution_count": 11,
   "id": "a2a21e59",
   "metadata": {},
   "outputs": [],
   "source": [
    "#A function to calculate the volume of gas using the ideal gas laws\n",
    "def Calculate_Vol_of_Gas(pressure,temperature,gasConstant):\n",
    "    \"\"\"\n",
    "    19/09/2023 - Umang S : Create function for calculating the volume of gas\n",
    "    Arguments:\n",
    "        pressure (float): Pressure in Pascals (Pa)\n",
    "        temperature (float): Temperature in Kelvin (K)\n",
    "        gasConstant (float): Gas constant for the specific gas\n",
    "    Returns:\n",
    "        float: Volume of gas in cubic meters(m^3)\n",
    "    \"\"\"\n",
    "    return(pressure*1.0)/(gasConstant*temperature)"
   ]
  },
  {
   "cell_type": "code",
   "execution_count": 20,
   "id": "3208b93c",
   "metadata": {},
   "outputs": [
    {
     "name": "stdout",
     "output_type": "stream",
     "text": [
      "Gas Volume: 4.00906047667729m³\n"
     ]
    }
   ],
   "source": [
    "gasVol = Calculate_Vol_of_Gas(10000,300,8.3145)\n",
    "print(f\"Gas Volume: {gasVol}m\\u00b3\")"
   ]
  },
  {
   "cell_type": "code",
   "execution_count": 21,
   "id": "19a62e87",
   "metadata": {},
   "outputs": [],
   "source": [
    "#A function to calculate the mass of gas\n",
    "def Calculate_Mass_of_Gas(molarMass,pressure,temperature,gasConstant):\n",
    "    \"\"\"\n",
    "    19/09/2023 - Umang S : Create function for calculating the mass of gas\n",
    "    Arguments:\n",
    "        pressure (float): Pressure in Pascals (Pa)\n",
    "        temperature (float): Temperature in Kelvin (K)\n",
    "        gasConstant (float): Gas constant for the specific gas\n",
    "        molarMass (float): Molar mass of the gas (grams/mole)\n",
    "    Returns:\n",
    "        float: mass of gas in grams (g)\n",
    "    \"\"\"\n",
    "    gasVol = Calculate_Vol_of_Gas(pressure,temperature,gasConstant)\n",
    "    return (gasVol*molarMass)*1000"
   ]
  },
  {
   "cell_type": "code",
   "execution_count": 84,
   "id": "64e80a5b",
   "metadata": {},
   "outputs": [
    {
     "name": "stdout",
     "output_type": "stream",
     "text": [
      "Gas Mass: 7493.570984443533g\n"
     ]
    }
   ],
   "source": [
    "# gasMass = Calculate_Mass_of_Gas(2.0,10000,321,8.3145)\n",
    "gasMass = Calculate_Mass_of_Gas(molarMass = 2.0, pressure=10000, temperature=321,gasConstant=8.3145)\n",
    "print(f\"Gas Mass: {gasMass}g\")"
   ]
  },
  {
   "cell_type": "code",
   "execution_count": 26,
   "id": "080602b7",
   "metadata": {},
   "outputs": [],
   "source": [
    "#Recursive function for Factorial\n",
    "def factorial(num):\n",
    "    if(num==0):\n",
    "        return 1\n",
    "    else:\n",
    "        return num*factorial(num-1)"
   ]
  },
  {
   "cell_type": "code",
   "execution_count": 27,
   "id": "4f171035",
   "metadata": {},
   "outputs": [
    {
     "data": {
      "text/plain": [
       "120"
      ]
     },
     "execution_count": 27,
     "metadata": {},
     "output_type": "execute_result"
    }
   ],
   "source": [
    "factorial(5)"
   ]
  },
  {
   "cell_type": "code",
   "execution_count": 34,
   "id": "9fde06c3",
   "metadata": {},
   "outputs": [],
   "source": [
    "#A function to calculate the total depth of the segments\n",
    "def Calculate_Total_Depth(segments):\n",
    "    \"\"\"\n",
    "    Arguments: \n",
    "        segments: depth of individual segments\n",
    "    Returns:\n",
    "        integer: o\n",
    "    \"\"\"\n",
    "    if len(segments) == 0:\n",
    "        return 0\n",
    "    else:\n",
    "        currentSegmentDepth = segments[0]\n",
    "        remainingSegments = segments[1:]\n",
    "        return currentSegmentDepth + Calculate_Total_Depth(remainingSegments)"
   ]
  },
  {
   "cell_type": "code",
   "execution_count": 38,
   "id": "95dd333a",
   "metadata": {},
   "outputs": [
    {
     "data": {
      "text/plain": [
       "0"
      ]
     },
     "execution_count": 38,
     "metadata": {},
     "output_type": "execute_result"
    }
   ],
   "source": [
    "Calculate_Total_Depth([])"
   ]
  },
  {
   "cell_type": "code",
   "execution_count": 41,
   "id": "7522b30c",
   "metadata": {},
   "outputs": [],
   "source": [
    "def Generate_Square(num):\n",
    "    for i in range(1,num+1):\n",
    "        yield(i**2)"
   ]
  },
  {
   "cell_type": "code",
   "execution_count": 42,
   "id": "b356be40",
   "metadata": {},
   "outputs": [
    {
     "name": "stdout",
     "output_type": "stream",
     "text": [
      "1\n",
      "4\n",
      "9\n",
      "16\n",
      "25\n"
     ]
    }
   ],
   "source": [
    "for i in Generate_Square(5):\n",
    "    print(i)"
   ]
  },
  {
   "cell_type": "code",
   "execution_count": 82,
   "id": "d585158f",
   "metadata": {},
   "outputs": [],
   "source": [
    "#To find the month on the basis of integer value\n",
    "import datetime\n",
    "\n",
    "#A function to calculate the monthly production by dividing the yearly production across the months\n",
    "@Deco_Monthly\n",
    "def Calculate_Monthy_Production(yearlyProduce):\n",
    "    \"\"\"\n",
    "    Arguements:\n",
    "        yearlyProduce (float): total production for the year\n",
    "    Returns:\n",
    "        object[<float>]: production for each month  \n",
    "    \"\"\"\n",
    "    month = 1\n",
    "    for i in range (1,13):\n",
    "        x = datetime.datetime(2023, month, 1)\n",
    "        yield({\"month\":x.strftime(\"%B\"), \n",
    "               \"production\":yearlyProduce/12})\n",
    "        month = month + 1"
   ]
  },
  {
   "cell_type": "code",
   "execution_count": 83,
   "id": "f6a4ef07",
   "metadata": {},
   "outputs": [
    {
     "name": "stderr",
     "output_type": "stream",
     "text": [
      "WARNING:root:Dividing the yearly production\n",
      "WARNING:root:Divided yearly production to monthly production\n"
     ]
    },
    {
     "name": "stdout",
     "output_type": "stream",
     "text": [
      "Production in January is 1000.0\n",
      "Production in February is 1000.0\n",
      "Production in March is 1000.0\n",
      "Production in April is 1000.0\n",
      "Production in May is 1000.0\n",
      "Production in June is 1000.0\n",
      "Production in July is 1000.0\n",
      "Production in August is 1000.0\n",
      "Production in September is 1000.0\n",
      "Production in October is 1000.0\n",
      "Production in November is 1000.0\n",
      "Production in December is 1000.0\n"
     ]
    }
   ],
   "source": [
    "for i in Calculate_Monthy_Production(12000):\n",
    "    print(f\"Production in {i['month']} is {i['production']}\")"
   ]
  },
  {
   "cell_type": "code",
   "execution_count": 81,
   "id": "69b6312e",
   "metadata": {},
   "outputs": [],
   "source": [
    "import logging\n",
    "def Deco_Monthly(monthly):\n",
    "    def wrapper(*args,**kwargs):\n",
    "        logging.warning(\"Dividing the yearly production\")\n",
    "        output = monthly(*args,**kwargs)\n",
    "        logging.warning(\"Divided yearly production to monthly production\")\n",
    "        return output\n",
    "    return wrapper"
   ]
  },
  {
   "cell_type": "code",
   "execution_count": 85,
   "id": "083f8ab6",
   "metadata": {},
   "outputs": [
    {
     "name": "stdout",
     "output_type": "stream",
     "text": [
      "Gas Mass: 7493.570984443533g\n"
     ]
    }
   ],
   "source": [
    "# Keyword Arguments\n",
    "gasMass = Calculate_Mass_of_Gas(molarMass = 2.0, pressure=10000, temperature=321,gasConstant=8.3145)\n",
    "print(f\"Gas Mass: {gasMass}g\")"
   ]
  },
  {
   "cell_type": "code",
   "execution_count": 86,
   "id": "16596d54",
   "metadata": {},
   "outputs": [],
   "source": [
    "def Calculate_Energy_Content(composition):\n",
    "    lhv=0\n",
    "    for gas,percentage in composition.items():\n",
    "        #LHV values for common gases (in J/Kg)\n",
    "        lhv_values = {\n",
    "            \"methane\":50000,\n",
    "            \"ethane\":40000,\n",
    "            \"propane\":46000,\n",
    "            \"butane\":45000\n",
    "        }\n",
    "        if gas in lhv_values:\n",
    "                lhv+=lhv_values[gas]*(percentage/100)\n",
    "    return lhv"
   ]
  },
  {
   "cell_type": "code",
   "execution_count": 92,
   "id": "8c826f2c",
   "metadata": {},
   "outputs": [],
   "source": [
    "gasComposition ={\"methane\":80,\"ethane\":10,\"propane\":5,\"butane\":1}"
   ]
  },
  {
   "cell_type": "code",
   "execution_count": 93,
   "id": "d4c77ae5",
   "metadata": {},
   "outputs": [
    {
     "data": {
      "text/plain": [
       "46750.0"
      ]
     },
     "execution_count": 93,
     "metadata": {},
     "output_type": "execute_result"
    }
   ],
   "source": [
    "Calculate_Energy_Content(gasComposition)"
   ]
  },
  {
   "cell_type": "code",
   "execution_count": 99,
   "id": "8bdab88f",
   "metadata": {},
   "outputs": [],
   "source": [
    "class Person:\n",
    "    def __init__(self,name,age):\n",
    "        self.name = name\n",
    "        self.age = age\n",
    "    \n",
    "    def greet(self):\n",
    "        return(f\"Hello,my name is {self.name} and I am {self.age} years old\")\n",
    "    \n",
    "    def have_birthday(self):\n",
    "        self.age += 1\n",
    "        return(f\"Happy birthday to {self.name}! They are now {self.age} years old\")"
   ]
  },
  {
   "cell_type": "code",
   "execution_count": 100,
   "id": "16811829",
   "metadata": {},
   "outputs": [],
   "source": [
    "abc = Person(\"abc\",22)"
   ]
  },
  {
   "cell_type": "code",
   "execution_count": 101,
   "id": "7cbee163",
   "metadata": {},
   "outputs": [
    {
     "data": {
      "text/plain": [
       "'Hello,my name is abc and I am 22 years old'"
      ]
     },
     "execution_count": 101,
     "metadata": {},
     "output_type": "execute_result"
    }
   ],
   "source": [
    "abc.greet()"
   ]
  },
  {
   "cell_type": "code",
   "execution_count": 109,
   "id": "17ac3685",
   "metadata": {},
   "outputs": [],
   "source": [
    "#multiple func, gas vol, gas mass,etc\n",
    "#new instance and call objs\n",
    "\n",
    "class PetroCorp:\n",
    "    #A function to calculate the volume of gas using the ideal gas laws\n",
    "    def Calculate_Vol_of_Gas(pressure,temperature,gasConstant):\n",
    "        return(pressure*1.0)/(gasConstant*temperature)\n",
    "\n",
    "#A function to calculate the mass of gas\n",
    "    def Calculate_Mass_of_Gas(molarMass,pressure,temperature,gasConstant):\n",
    "        gasVol = Calculate_Vol_of_Gas(pressure,temperature,gasConstant)\n",
    "        return (gasVol*molarMass)*1000\n",
    "\n",
    "#A function to calculate the total depth of the segments\n",
    "    def Calculate_Total_Depth(segments):\n",
    "        if len(segments) == 0:\n",
    "            return 0\n",
    "        else:\n",
    "            currentSegmentDepth = segments[0]\n",
    "            remainingSegments = segments[1:]\n",
    "            return currentSegmentDepth + Calculate_Total_Depth(remainingSegments)\n",
    "        \n",
    "#A function to calculate the monthly oil production\n",
    "def Calculate_Monthy_Production(yearlyProduce):\n",
    "    month = 1\n",
    "    for i in range (1,13):\n",
    "        x = datetime.datetime(2023, month, 1)\n",
    "        yield({\"month\":x.strftime(\"%B\"), \n",
    "               \"production\":yearlyProduce/12})\n",
    "        month = month + 1"
   ]
  },
  {
   "cell_type": "code",
   "execution_count": 111,
   "id": "bcc9fa2a",
   "metadata": {},
   "outputs": [],
   "source": [
    "test = PetroCorp.Calculate_Vol_of_Gas(10000,300,8.3145)"
   ]
  },
  {
   "cell_type": "code",
   "execution_count": 112,
   "id": "26c9ab8a",
   "metadata": {},
   "outputs": [
    {
     "name": "stdout",
     "output_type": "stream",
     "text": [
      "4.00906047667729\n"
     ]
    }
   ],
   "source": [
    "print(test)"
   ]
  },
  {
   "cell_type": "code",
   "execution_count": 114,
   "id": "7a7257e0",
   "metadata": {},
   "outputs": [],
   "source": [
    "import time"
   ]
  },
  {
   "cell_type": "code",
   "execution_count": 116,
   "id": "465d1590",
   "metadata": {},
   "outputs": [
    {
     "data": {
      "text/plain": [
       "'Tue Sep 19 08:49:35 2023'"
      ]
     },
     "execution_count": 116,
     "metadata": {},
     "output_type": "execute_result"
    }
   ],
   "source": [
    "time.ctime(time.time())"
   ]
  },
  {
   "cell_type": "code",
   "execution_count": 117,
   "id": "65e315b4",
   "metadata": {},
   "outputs": [
    {
     "data": {
      "text/plain": [
       "time.struct_time(tm_year=2023, tm_mon=9, tm_mday=19, tm_hour=8, tm_min=50, tm_sec=24, tm_wday=1, tm_yday=262, tm_isdst=0)"
      ]
     },
     "execution_count": 117,
     "metadata": {},
     "output_type": "execute_result"
    }
   ],
   "source": [
    "time.localtime(time.time())"
   ]
  },
  {
   "cell_type": "code",
   "execution_count": 119,
   "id": "f5b0cc71",
   "metadata": {},
   "outputs": [],
   "source": [
    "from datetime import datetime"
   ]
  },
  {
   "cell_type": "code",
   "execution_count": 125,
   "id": "26371ee6",
   "metadata": {},
   "outputs": [
    {
     "data": {
      "text/plain": [
       "'23-Sep-19'"
      ]
     },
     "execution_count": 125,
     "metadata": {},
     "output_type": "execute_result"
    }
   ],
   "source": [
    "datetime.fromtimestamp(time.time()).strftime('%y-%h-%d')"
   ]
  },
  {
   "cell_type": "code",
   "execution_count": 127,
   "id": "52d23a9f",
   "metadata": {},
   "outputs": [
    {
     "data": {
      "text/plain": [
       "'19-08'"
      ]
     },
     "execution_count": 127,
     "metadata": {},
     "output_type": "execute_result"
    }
   ],
   "source": [
    "datetime.now().strftime('%d-%H')"
   ]
  },
  {
   "cell_type": "code",
   "execution_count": 128,
   "id": "a7569e39",
   "metadata": {},
   "outputs": [
    {
     "name": "stdout",
     "output_type": "stream",
     "text": [
      "year: 2023\n",
      "month: 09\n",
      "day: 19\n",
      "time: 08:56:44\n",
      "date and time: 09/19/2023, 08:56:44\n"
     ]
    }
   ],
   "source": [
    "now = datetime.now()\n",
    "\n",
    "year = now.strftime(\"%Y\")\n",
    "print(\"year:\", year)\n",
    "\n",
    "month = now.strftime(\"%m\")\n",
    "print(\"month:\", month)\n",
    "\n",
    "day = now.strftime(\"%d\")\n",
    "print(\"day:\", day)\n",
    "\n",
    "time = now.strftime(\"%H:%M:%S\")\n",
    "print(\"time:\", time)\n",
    "\n",
    "date_time = now.strftime(\"%m/%d/%Y, %H:%M:%S\")\n",
    "print(\"date and time:\",date_time)"
   ]
  },
  {
   "cell_type": "code",
   "execution_count": 131,
   "id": "5b5a9fd8",
   "metadata": {},
   "outputs": [
    {
     "name": "stdout",
     "output_type": "stream",
     "text": [
      "Error: Division by 0\n"
     ]
    }
   ],
   "source": [
    "a=10\n",
    "b=0\n",
    "\n",
    "try:\n",
    "    print(a/b)\n",
    "except:\n",
    "    print(\"Error: Division by 0\")"
   ]
  },
  {
   "cell_type": "code",
   "execution_count": 132,
   "id": "e2da42f5",
   "metadata": {},
   "outputs": [],
   "source": [
    "z = [i**2 for i in range(1,10) if i%2==0]"
   ]
  },
  {
   "cell_type": "code",
   "execution_count": 133,
   "id": "6625c50c",
   "metadata": {},
   "outputs": [
    {
     "name": "stdout",
     "output_type": "stream",
     "text": [
      "[4, 16, 36, 64]\n"
     ]
    }
   ],
   "source": [
    "print(z)"
   ]
  },
  {
   "cell_type": "code",
   "execution_count": 136,
   "id": "2d2342d5",
   "metadata": {},
   "outputs": [
    {
     "name": "stdout",
     "output_type": "stream",
     "text": [
      "[2, 4, 6, 8]\n"
     ]
    }
   ],
   "source": [
    "even_num = [i for i in range(1,10) if i%2==0]\n",
    "print(even_num)"
   ]
  },
  {
   "cell_type": "code",
   "execution_count": 1,
   "id": "b0ee828a",
   "metadata": {},
   "outputs": [
    {
     "name": "stdout",
     "output_type": "stream",
     "text": [
      "3\n"
     ]
    }
   ],
   "source": [
    "add = lambda a,b: a+b\n",
    "print(add(1,2))"
   ]
  },
  {
   "cell_type": "code",
   "execution_count": null,
   "id": "69036163",
   "metadata": {},
   "outputs": [],
   "source": []
  }
 ],
 "metadata": {
  "kernelspec": {
   "display_name": "Python 3 (ipykernel)",
   "language": "python",
   "name": "python3"
  },
  "language_info": {
   "codemirror_mode": {
    "name": "ipython",
    "version": 3
   },
   "file_extension": ".py",
   "mimetype": "text/x-python",
   "name": "python",
   "nbconvert_exporter": "python",
   "pygments_lexer": "ipython3",
   "version": "3.11.4"
  }
 },
 "nbformat": 4,
 "nbformat_minor": 5
}
