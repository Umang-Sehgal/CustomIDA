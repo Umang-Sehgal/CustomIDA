{
 "cells": [
  {
   "cell_type": "code",
   "execution_count": 1,
   "id": "420c7269",
   "metadata": {},
   "outputs": [],
   "source": [
    "import findspark"
   ]
  },
  {
   "cell_type": "code",
   "execution_count": 2,
   "id": "aaeedd45",
   "metadata": {},
   "outputs": [],
   "source": [
    "findspark.init()"
   ]
  },
  {
   "cell_type": "code",
   "execution_count": 3,
   "id": "6a48ad11",
   "metadata": {},
   "outputs": [
    {
     "name": "stderr",
     "output_type": "stream",
     "text": [
      "Setting default log level to \"WARN\".\n",
      "To adjust logging level use sc.setLogLevel(newLevel). For SparkR, use setLogLevel(newLevel).\n",
      "23/09/22 03:45:37 WARN NativeCodeLoader: Unable to load native-hadoop library for your platform... using builtin-java classes where applicable\n"
     ]
    }
   ],
   "source": [
    "from pyspark.sql import SparkSession\n",
    "#Initialize Spark Session\n",
    "spark = SparkSession.builder.appName(\"TestApp\").getOrCreate()"
   ]
  },
  {
   "cell_type": "code",
   "execution_count": 4,
   "id": "2bba3b3c",
   "metadata": {},
   "outputs": [
    {
     "data": {
      "text/plain": [
       "'/opt/anaconda3/lib/python3.11/site-packages/pyspark'"
      ]
     },
     "execution_count": 4,
     "metadata": {},
     "output_type": "execute_result"
    }
   ],
   "source": [
    "findspark.find()"
   ]
  },
  {
   "cell_type": "code",
   "execution_count": 4,
   "id": "b2c18e5c",
   "metadata": {},
   "outputs": [],
   "source": [
    "sc=spark.sparkContext"
   ]
  },
  {
   "cell_type": "code",
   "execution_count": 11,
   "id": "041bd739",
   "metadata": {},
   "outputs": [
    {
     "data": {
      "text/plain": [
       "[1, 2, 3, 4]"
      ]
     },
     "execution_count": 11,
     "metadata": {},
     "output_type": "execute_result"
    }
   ],
   "source": [
    "rdd = sc.parallelize([1,2,3,4])\n",
    "rdd.collect()"
   ]
  },
  {
   "cell_type": "code",
   "execution_count": 12,
   "id": "78a13d7f",
   "metadata": {},
   "outputs": [
    {
     "name": "stderr",
     "output_type": "stream",
     "text": [
      "                                                                                \r"
     ]
    },
    {
     "data": {
      "text/plain": [
       "[2, 4, 6, 8]"
      ]
     },
     "execution_count": 12,
     "metadata": {},
     "output_type": "execute_result"
    }
   ],
   "source": [
    "resultRdd = rdd.map(lambda a:a*2)\n",
    "resultRdd.collect()"
   ]
  },
  {
   "cell_type": "code",
   "execution_count": 16,
   "id": "1a6e3eec",
   "metadata": {},
   "outputs": [
    {
     "data": {
      "text/plain": [
       "[1, 2, 2, 4, 3, 6, 4, 8]"
      ]
     },
     "execution_count": 16,
     "metadata": {},
     "output_type": "execute_result"
    }
   ],
   "source": [
    "resultRdd = rdd.flatMap(lambda x:(x,x*2))\n",
    "resultRdd.collect()"
   ]
  },
  {
   "cell_type": "code",
   "execution_count": 19,
   "id": "8a35e1c6",
   "metadata": {},
   "outputs": [
    {
     "data": {
      "text/plain": [
       "[1, 3]"
      ]
     },
     "execution_count": 19,
     "metadata": {},
     "output_type": "execute_result"
    }
   ],
   "source": [
    "resultRdd = rdd.filter(lambda x: x%2!=0)\n",
    "resultRdd.collect()"
   ]
  },
  {
   "cell_type": "code",
   "execution_count": 24,
   "id": "2e83982b",
   "metadata": {},
   "outputs": [
    {
     "data": {
      "text/plain": [
       "[(2, 3), (1, 7), (3, 4)]"
      ]
     },
     "execution_count": 24,
     "metadata": {},
     "output_type": "execute_result"
    }
   ],
   "source": [
    "rdd1 = sc.parallelize([(1,2),(2,3),(3,4),(1,5)])\n",
    "resultRdd = rdd1.reduceByKey(lambda x,y: x+y)\n",
    "resultRdd.collect()"
   ]
  },
  {
   "cell_type": "code",
   "execution_count": 25,
   "id": "22fe4978",
   "metadata": {},
   "outputs": [
    {
     "data": {
      "text/plain": [
       "[(2, <pyspark.resultiterable.ResultIterable at 0x7f73e592b0d0>),\n",
       " (1, <pyspark.resultiterable.ResultIterable at 0x7f73e592b2d0>),\n",
       " (3, <pyspark.resultiterable.ResultIterable at 0x7f73e5923210>)]"
      ]
     },
     "execution_count": 25,
     "metadata": {},
     "output_type": "execute_result"
    }
   ],
   "source": [
    "resultRdd = rdd1.groupByKey()\n",
    "resultRdd.collect()"
   ]
  },
  {
   "cell_type": "code",
   "execution_count": 26,
   "id": "50353285",
   "metadata": {},
   "outputs": [
    {
     "name": "stdout",
     "output_type": "stream",
     "text": [
      "Key:2, Values:[3]\n",
      "Key:1, Values:[2, 5]\n",
      "Key:3, Values:[4]\n"
     ]
    },
    {
     "name": "stderr",
     "output_type": "stream",
     "text": [
      "\r",
      "[Stage 23:>                                                         (0 + 2) / 2]\r",
      "\r",
      "                                                                                \r"
     ]
    }
   ],
   "source": [
    "for x,y in resultRdd.collect():\n",
    "    print(f\"Key:{x}, Values:{list(y)}\")"
   ]
  },
  {
   "cell_type": "code",
   "execution_count": 27,
   "id": "8b7eabf8",
   "metadata": {},
   "outputs": [],
   "source": [
    "word_list = [\"A\",\"B\",\"C\",\"D\",\"A\",\"A\",\"C\"]"
   ]
  },
  {
   "cell_type": "code",
   "execution_count": 29,
   "id": "c40ee397",
   "metadata": {},
   "outputs": [
    {
     "data": {
      "text/plain": [
       "['A', 'B', 'C', 'D', 'A', 'A', 'C']"
      ]
     },
     "execution_count": 29,
     "metadata": {},
     "output_type": "execute_result"
    }
   ],
   "source": [
    "wordRdd = sc.parallelize(word_list)\n",
    "wordRdd.collect()"
   ]
  },
  {
   "cell_type": "code",
   "execution_count": 41,
   "id": "4c9d7b2f",
   "metadata": {},
   "outputs": [],
   "source": [
    "countRdd = wordRdd.map(lambda x: (x,x)).groupByKey()\n",
    "# countRdd.collect()"
   ]
  },
  {
   "cell_type": "code",
   "execution_count": 42,
   "id": "a7248c84",
   "metadata": {},
   "outputs": [
    {
     "name": "stdout",
     "output_type": "stream",
     "text": [
      "A occurs 3 times\n",
      "D occurs 1 times\n",
      "B occurs 1 times\n",
      "C occurs 2 times\n"
     ]
    }
   ],
   "source": [
    "for key, val in countRdd.collect():\n",
    "    print(f\"{key} occurs {len(list(val))} times\")"
   ]
  },
  {
   "cell_type": "code",
   "execution_count": 43,
   "id": "02b95e37",
   "metadata": {},
   "outputs": [
    {
     "name": "stdout",
     "output_type": "stream",
     "text": [
      "A occurs 3 times\n",
      "D occurs 1 times\n",
      "B occurs 1 times\n",
      "C occurs 2 times\n"
     ]
    }
   ],
   "source": [
    "countRdd = wordRdd.map(lambda x: (x,1)).reduceByKey(lambda x,y:x+y)\n",
    "for key, val in countRdd.collect():\n",
    "    print(f\"{key} occurs {(val)} times\")"
   ]
  },
  {
   "cell_type": "code",
   "execution_count": 44,
   "id": "961240d0",
   "metadata": {},
   "outputs": [
    {
     "data": {
      "text/plain": [
       "[',apples,oranges', 'June,3,0', 'Robert,2,3', 'Lily,0,7', 'David,1,2']"
      ]
     },
     "execution_count": 44,
     "metadata": {},
     "output_type": "execute_result"
    }
   ],
   "source": [
    "purchaseRdd = sc.textFile(\"/home/labuser/Downloads/purchases.csv\")\n",
    "purchaseRdd.collect()"
   ]
  },
  {
   "cell_type": "code",
   "execution_count": 57,
   "id": "f75f4ff5",
   "metadata": {},
   "outputs": [
    {
     "name": "stdout",
     "output_type": "stream",
     "text": [
      "+------+------+-------+\n",
      "|   _c0|apples|oranges|\n",
      "+------+------+-------+\n",
      "|  June|     3|      0|\n",
      "|Robert|     2|      3|\n",
      "|  Lily|     0|      7|\n",
      "| David|     1|      2|\n",
      "+------+------+-------+\n",
      "\n"
     ]
    },
    {
     "name": "stderr",
     "output_type": "stream",
     "text": [
      "23/09/21 08:59:55 WARN CSVHeaderChecker: CSV header does not conform to the schema.\n",
      " Header: , apples, oranges\n",
      " Schema: _c0, apples, oranges\n",
      "Expected: _c0 but found: \n",
      "CSV file: file:///home/labuser/Downloads/purchases.csv\n"
     ]
    }
   ],
   "source": [
    "testDf = spark.read.option(\"inferSchema\",True).option(\"header\",True).csv(\"/home/labuser/Downloads/purchases.csv\")\n",
    "testDf.show()"
   ]
  },
  {
   "cell_type": "code",
   "execution_count": 69,
   "id": "52768cb2",
   "metadata": {},
   "outputs": [],
   "source": [
    "from pyspark.sql.types import StructType, StructField, StringType, IntegerType\n",
    "schema = StructType([\n",
    "    StructField(\"\",StringType(),True),\n",
    "    StructField(\"apples\",IntegerType(),True),\n",
    "    StructField(\"oranges\",IntegerType(),True),\n",
    "])"
   ]
  },
  {
   "cell_type": "code",
   "execution_count": 70,
   "id": "50c7ec6a",
   "metadata": {},
   "outputs": [
    {
     "name": "stdout",
     "output_type": "stream",
     "text": [
      "+------+------+-------+\n",
      "|      |apples|oranges|\n",
      "+------+------+-------+\n",
      "|  June|     3|      0|\n",
      "|Robert|     2|      3|\n",
      "|  Lily|     0|      7|\n",
      "| David|     1|      2|\n",
      "+------+------+-------+\n",
      "\n"
     ]
    }
   ],
   "source": [
    "testDf = spark.read.schema(schema).option(\"header\",True).csv(\"/home/labuser/Downloads/purchases.csv\")\n",
    "testDf.show()"
   ]
  },
  {
   "cell_type": "code",
   "execution_count": 71,
   "id": "5298310c",
   "metadata": {},
   "outputs": [
    {
     "name": "stdout",
     "output_type": "stream",
     "text": [
      "root\n",
      " |-- : string (nullable = true)\n",
      " |-- apples: integer (nullable = true)\n",
      " |-- oranges: integer (nullable = true)\n",
      "\n"
     ]
    }
   ],
   "source": [
    "testDf.printSchema()"
   ]
  },
  {
   "cell_type": "code",
   "execution_count": 83,
   "id": "40802edb",
   "metadata": {},
   "outputs": [
    {
     "name": "stdout",
     "output_type": "stream",
     "text": [
      "root\n",
      " |-- Rank: integer (nullable = true)\n",
      " |-- Title: string (nullable = true)\n",
      " |-- Genre: string (nullable = true)\n",
      " |-- Description: string (nullable = true)\n",
      " |-- Director: string (nullable = true)\n",
      " |-- Actors: string (nullable = true)\n",
      " |-- Year: string (nullable = true)\n",
      " |-- Runtime (Minutes): string (nullable = true)\n",
      " |-- Rating: string (nullable = true)\n",
      " |-- Votes: string (nullable = true)\n",
      " |-- Revenue (Millions): double (nullable = true)\n",
      " |-- Metascore: double (nullable = true)\n",
      "\n"
     ]
    }
   ],
   "source": [
    "moviesDf = spark.read.option(\"inferSchema\",True).option(\"header\",True).csv(\"/home/labuser/Downloads/IMDB-Movie-Data.csv\")\n",
    "moviesDf.printSchema()"
   ]
  },
  {
   "cell_type": "code",
   "execution_count": 80,
   "id": "13f00c3e",
   "metadata": {},
   "outputs": [],
   "source": [
    "moviesSchema = StructType([\n",
    "    StructField(\"Rank\",IntegerType(),False),\n",
    "    StructField(\"Title\",StringType(),True),\n",
    "    StructField(\"Genre\",StringType(),True),\n",
    "    StructField(\"Description\",StringType(),True),\n",
    "])"
   ]
  },
  {
   "cell_type": "code",
   "execution_count": 81,
   "id": "869d7793",
   "metadata": {},
   "outputs": [
    {
     "name": "stdout",
     "output_type": "stream",
     "text": [
      "root\n",
      " |-- Rank: integer (nullable = true)\n",
      " |-- Title: string (nullable = true)\n",
      " |-- Genre: string (nullable = true)\n",
      " |-- Description: string (nullable = true)\n",
      "\n"
     ]
    }
   ],
   "source": [
    "moviesDf = spark.read.schema(moviesSchema).option(\"header\",True).csv(\"/home/labuser/Downloads/IMDB-Movie-Data.csv\")\n",
    "moviesDf.printSchema()"
   ]
  },
  {
   "cell_type": "code",
   "execution_count": 84,
   "id": "799399be",
   "metadata": {},
   "outputs": [
    {
     "name": "stdout",
     "output_type": "stream",
     "text": [
      "root\n",
      " |-- Rank: integer (nullable = true)\n",
      " |-- Title: string (nullable = true)\n",
      " |-- Genre: string (nullable = true)\n",
      " |-- Description: string (nullable = true)\n",
      " |-- Director: string (nullable = true)\n",
      " |-- Actors: string (nullable = true)\n",
      " |-- Year: string (nullable = true)\n",
      " |-- Runtime (Minutes): string (nullable = true)\n",
      " |-- Rating: string (nullable = true)\n",
      " |-- Votes: string (nullable = true)\n",
      " |-- Revenue (Millions): double (nullable = true)\n",
      " |-- Metascore: double (nullable = true)\n",
      "\n"
     ]
    }
   ],
   "source": [
    "moviesDf.printSchema()"
   ]
  },
  {
   "cell_type": "code",
   "execution_count": 85,
   "id": "6765070c",
   "metadata": {},
   "outputs": [
    {
     "name": "stdout",
     "output_type": "stream",
     "text": [
      "+----+--------------------+--------------------+--------------------+--------------------+--------------------+--------------------+-----------------+------+------+------------------+---------+-------+\n",
      "|Rank|               Title|               Genre|         Description|            Director|              Actors|                Year|Runtime (Minutes)|Rating| Votes|Revenue (Millions)|Metascore|Rev_new|\n",
      "+----+--------------------+--------------------+--------------------+--------------------+--------------------+--------------------+-----------------+------+------+------------------+---------+-------+\n",
      "|   1|Guardians of the ...|Action,Adventure,...|A group of interg...|          James Gunn|Chris Pratt, Vin ...|                2014|              121|   8.1|757074|            333.13|     76.0| 333.13|\n",
      "|   2|          Prometheus|Adventure,Mystery...|Following clues t...|        Ridley Scott|Noomi Rapace, Log...|                2012|              124|     7|485820|            126.46|     65.0| 126.46|\n",
      "|   3|               Split|     Horror,Thriller|Three girls are k...|  M. Night Shyamalan|James McAvoy, Any...|                2016|              117|   7.3|157606|            138.12|     62.0| 138.12|\n",
      "|   4|                Sing|Animation,Comedy,...|In a city of huma...|Christophe Lourdelet|Matthew McConaugh...|                2016|              108|   7.2| 60545|            270.32|     59.0| 270.32|\n",
      "|   5|       Suicide Squad|Action,Adventure,...|A secret governme...|          David Ayer|Will Smith, Jared...|                2016|              123|   6.2|393727|            325.02|     40.0| 325.02|\n",
      "|   6|      The Great Wall|Action,Adventure,...|European mercenar...|         Yimou Zhang|Matt Damon, Tian ...|                2016|              103|   6.1| 56036|             45.13|     42.0|  45.13|\n",
      "|   7|          La La Land|  Comedy,Drama,Music|A jazz pianist fa...|     Damien Chazelle|Ryan Gosling, Emm...|                2016|              128|   8.3|258682|            151.06|     93.0| 151.06|\n",
      "|   8|            Mindhorn|              Comedy|\"A has-been actor...| whom he believes...|          Sean Foley|Essie Davis, Andr...|             2016|    89|   6.4|            2490.0|     null| 2490.0|\n",
      "|   9|  The Lost City of Z|Action,Adventure,...|A true-life drama...|          James Gray|Charlie Hunnam, R...|                2016|              141|   7.1|  7188|              8.01|     78.0|   8.01|\n",
      "|  10|          Passengers|Adventure,Drama,R...|A spacecraft trav...|       Morten Tyldum|Jennifer Lawrence...|                2016|              116|     7|192177|            100.01|     41.0| 100.01|\n",
      "|  11|Fantastic Beasts ...|Adventure,Family,...|The adventures of...|         David Yates|Eddie Redmayne, K...|                2016|              133|   7.5|232072|            234.02|     66.0| 234.02|\n",
      "|  12|      Hidden Figures|Biography,Drama,H...|The story of a te...|      Theodore Melfi|Taraji P. Henson,...|                2016|              127|   7.8| 93103|            169.27|     74.0| 169.27|\n",
      "|  13|           Rogue One|Action,Adventure,...|The Rebel Allianc...|      Gareth Edwards|Felicity Jones, D...|                2016|              133|   7.9|323118|            532.17|     65.0| 532.17|\n",
      "|  14|               Moana|Animation,Adventu...|In Ancient Polyne...|        Ron Clements|Auli'i Cravalho, ...|                2016|              107|   7.7|118151|            248.75|     81.0| 248.75|\n",
      "|  15|            Colossal| Action,Comedy,Drama|Gloria is an out-...|     Nacho Vigalondo|Anne Hathaway, Ja...|                2016|              109|   6.4|  8612|              2.87|     70.0|   2.87|\n",
      "|  16|The Secret Life o...|Animation,Adventu...|The quiet life of...|        Chris Renaud|Louis C.K., Eric ...|                2016|               87|   6.6|120259|            368.31|     61.0| 368.31|\n",
      "|  17|       Hacksaw Ridge|Biography,Drama,H...|WWII American Arm...|          Mel Gibson|Andrew Garfield, ...|                2016|              139|   8.2|211760|             67.12|     71.0|  67.12|\n",
      "|  18|        Jason Bourne|     Action,Thriller|The CIA's most da...|     Paul Greengrass|Matt Damon, Tommy...|                2016|              123|   6.7|150823|            162.16|     58.0| 162.16|\n",
      "|  19|                Lion|     Biography,Drama|A five-year-old I...|         Garth Davis|Dev Patel, Nicole...|                2016|              118|   8.1|102061|             51.69|     69.0|  51.69|\n",
      "|  20|             Arrival|Drama,Mystery,Sci-Fi|When twelve myste...|    Denis Villeneuve|Amy Adams, Jeremy...|                2016|              116|     8|340798|             100.5|     81.0|  100.5|\n",
      "+----+--------------------+--------------------+--------------------+--------------------+--------------------+--------------------+-----------------+------+------+------------------+---------+-------+\n",
      "only showing top 20 rows\n",
      "\n"
     ]
    }
   ],
   "source": [
    "from pyspark.sql.functions import *\n",
    "moviesDf=moviesDf.withColumn(\"Rev_new\",col(\"Revenue (Millions)\"))\n",
    "moviesDf.show()"
   ]
  },
  {
   "cell_type": "code",
   "execution_count": 87,
   "id": "67303453",
   "metadata": {},
   "outputs": [
    {
     "name": "stdout",
     "output_type": "stream",
     "text": [
      "+----+--------------------+--------------------+--------------------+------------+--------------------+----+-----------------+------+------+------------------+---------+-------+--------------------+\n",
      "|Rank|               Title|               Genre|         Description|    Director|              Actors|Year|Runtime (Minutes)|Rating| Votes|Revenue (Millions)|Metascore|Rev_new|   updated_timestamp|\n",
      "+----+--------------------+--------------------+--------------------+------------+--------------------+----+-----------------+------+------+------------------+---------+-------+--------------------+\n",
      "|   1|Guardians of the ...|Action,Adventure,...|A group of interg...|  James Gunn|Chris Pratt, Vin ...|2014|              121|   8.1|757074|            333.13|     76.0| 333.13|2023-09-21 10:55:...|\n",
      "|   2|          Prometheus|Adventure,Mystery...|Following clues t...|Ridley Scott|Noomi Rapace, Log...|2012|              124|     7|485820|            126.46|     65.0| 126.46|2023-09-21 10:55:...|\n",
      "+----+--------------------+--------------------+--------------------+------------+--------------------+----+-----------------+------+------+------------------+---------+-------+--------------------+\n",
      "only showing top 2 rows\n",
      "\n"
     ]
    }
   ],
   "source": [
    "import datetime\n",
    "moviesDf = moviesDf.withColumn(\"updated_timestamp\",lit(datetime.datetime.now()))\n",
    "moviesDf.show(2)"
   ]
  },
  {
   "cell_type": "code",
   "execution_count": 88,
   "id": "07aee497",
   "metadata": {},
   "outputs": [
    {
     "data": {
      "text/plain": [
       "datetime.datetime(2023, 9, 21, 10, 55, 22, 886725)"
      ]
     },
     "execution_count": 88,
     "metadata": {},
     "output_type": "execute_result"
    }
   ],
   "source": [
    "datetime.datetime.now()"
   ]
  },
  {
   "cell_type": "code",
   "execution_count": 5,
   "id": "e02b6d69",
   "metadata": {},
   "outputs": [
    {
     "name": "stderr",
     "output_type": "stream",
     "text": [
      "                                                                                \r"
     ]
    }
   ],
   "source": [
    "moviesDf = spark.read.option(\"header\",True).option(\"inferSchema\",True).csv(\"/home/labuser/Downloads/IMDB-Movie-Data.csv\")"
   ]
  },
  {
   "cell_type": "code",
   "execution_count": 6,
   "id": "467dda61",
   "metadata": {},
   "outputs": [
    {
     "name": "stderr",
     "output_type": "stream",
     "text": [
      "\r",
      "[Stage 2:>                                                          (0 + 1) / 1]\r",
      "\r",
      "                                                                                \r"
     ]
    },
    {
     "name": "stdout",
     "output_type": "stream",
     "text": [
      "+----+--------------------+--------------------+--------------------+--------------------+--------------------+--------------------+-----------------+------+------+------------------+---------+\n",
      "|Rank|               Title|               Genre|         Description|            Director|              Actors|                Year|Runtime (Minutes)|Rating| Votes|Revenue (Millions)|Metascore|\n",
      "+----+--------------------+--------------------+--------------------+--------------------+--------------------+--------------------+-----------------+------+------+------------------+---------+\n",
      "|   1|Guardians of the ...|Action,Adventure,...|A group of interg...|          James Gunn|Chris Pratt, Vin ...|                2014|              121|   8.1|757074|            333.13|     76.0|\n",
      "|   2|          Prometheus|Adventure,Mystery...|Following clues t...|        Ridley Scott|Noomi Rapace, Log...|                2012|              124|     7|485820|            126.46|     65.0|\n",
      "|   3|               Split|     Horror,Thriller|Three girls are k...|  M. Night Shyamalan|James McAvoy, Any...|                2016|              117|   7.3|157606|            138.12|     62.0|\n",
      "|   4|                Sing|Animation,Comedy,...|In a city of huma...|Christophe Lourdelet|Matthew McConaugh...|                2016|              108|   7.2| 60545|            270.32|     59.0|\n",
      "|   5|       Suicide Squad|Action,Adventure,...|A secret governme...|          David Ayer|Will Smith, Jared...|                2016|              123|   6.2|393727|            325.02|     40.0|\n",
      "|   6|      The Great Wall|Action,Adventure,...|European mercenar...|         Yimou Zhang|Matt Damon, Tian ...|                2016|              103|   6.1| 56036|             45.13|     42.0|\n",
      "|   7|          La La Land|  Comedy,Drama,Music|A jazz pianist fa...|     Damien Chazelle|Ryan Gosling, Emm...|                2016|              128|   8.3|258682|            151.06|     93.0|\n",
      "|   8|            Mindhorn|              Comedy|\"A has-been actor...| whom he believes...|          Sean Foley|Essie Davis, Andr...|             2016|    89|   6.4|            2490.0|     null|\n",
      "|   9|  The Lost City of Z|Action,Adventure,...|A true-life drama...|          James Gray|Charlie Hunnam, R...|                2016|              141|   7.1|  7188|              8.01|     78.0|\n",
      "|  10|          Passengers|Adventure,Drama,R...|A spacecraft trav...|       Morten Tyldum|Jennifer Lawrence...|                2016|              116|     7|192177|            100.01|     41.0|\n",
      "|  11|Fantastic Beasts ...|Adventure,Family,...|The adventures of...|         David Yates|Eddie Redmayne, K...|                2016|              133|   7.5|232072|            234.02|     66.0|\n",
      "|  12|      Hidden Figures|Biography,Drama,H...|The story of a te...|      Theodore Melfi|Taraji P. Henson,...|                2016|              127|   7.8| 93103|            169.27|     74.0|\n",
      "|  13|           Rogue One|Action,Adventure,...|The Rebel Allianc...|      Gareth Edwards|Felicity Jones, D...|                2016|              133|   7.9|323118|            532.17|     65.0|\n",
      "|  14|               Moana|Animation,Adventu...|In Ancient Polyne...|        Ron Clements|Auli'i Cravalho, ...|                2016|              107|   7.7|118151|            248.75|     81.0|\n",
      "|  15|            Colossal| Action,Comedy,Drama|Gloria is an out-...|     Nacho Vigalondo|Anne Hathaway, Ja...|                2016|              109|   6.4|  8612|              2.87|     70.0|\n",
      "|  16|The Secret Life o...|Animation,Adventu...|The quiet life of...|        Chris Renaud|Louis C.K., Eric ...|                2016|               87|   6.6|120259|            368.31|     61.0|\n",
      "|  17|       Hacksaw Ridge|Biography,Drama,H...|WWII American Arm...|          Mel Gibson|Andrew Garfield, ...|                2016|              139|   8.2|211760|             67.12|     71.0|\n",
      "|  18|        Jason Bourne|     Action,Thriller|The CIA's most da...|     Paul Greengrass|Matt Damon, Tommy...|                2016|              123|   6.7|150823|            162.16|     58.0|\n",
      "|  19|                Lion|     Biography,Drama|A five-year-old I...|         Garth Davis|Dev Patel, Nicole...|                2016|              118|   8.1|102061|             51.69|     69.0|\n",
      "|  20|             Arrival|Drama,Mystery,Sci-Fi|When twelve myste...|    Denis Villeneuve|Amy Adams, Jeremy...|                2016|              116|     8|340798|             100.5|     81.0|\n",
      "+----+--------------------+--------------------+--------------------+--------------------+--------------------+--------------------+-----------------+------+------+------------------+---------+\n",
      "only showing top 20 rows\n",
      "\n"
     ]
    }
   ],
   "source": [
    "moviesDf.show()"
   ]
  },
  {
   "cell_type": "code",
   "execution_count": 27,
   "id": "4218ca96",
   "metadata": {},
   "outputs": [
    {
     "data": {
      "text/plain": [
       "DataFrame[summary: string, Rank: string, Title: string, Genre: string, Description: string, Director: string, Actors: string, Year: string, Runtime (Minutes): string, Rating: string, Votes: string, Rev_Million: string, Metascore: string]"
      ]
     },
     "execution_count": 27,
     "metadata": {},
     "output_type": "execute_result"
    }
   ],
   "source": [
    "moviesDf.describe()"
   ]
  },
  {
   "cell_type": "code",
   "execution_count": 21,
   "id": "230f3459",
   "metadata": {},
   "outputs": [],
   "source": [
    "testDf = moviesDf.repartition(10)"
   ]
  },
  {
   "cell_type": "code",
   "execution_count": 22,
   "id": "59d81cab",
   "metadata": {},
   "outputs": [
    {
     "data": {
      "text/plain": [
       "10"
      ]
     },
     "execution_count": 22,
     "metadata": {},
     "output_type": "execute_result"
    }
   ],
   "source": [
    "testDf.rdd.getNumPartitions()"
   ]
  },
  {
   "cell_type": "code",
   "execution_count": 20,
   "id": "bcf1d61c",
   "metadata": {},
   "outputs": [],
   "source": [
    "testDf.write.csv(\"/home/labuser/Downloads/Output/Partitions\")"
   ]
  },
  {
   "cell_type": "code",
   "execution_count": 24,
   "id": "0e8577a0",
   "metadata": {},
   "outputs": [
    {
     "data": {
      "text/plain": [
       "'http://ip-172-31-0-176.ap-south-1.compute.internal:4040'"
      ]
     },
     "execution_count": 24,
     "metadata": {},
     "output_type": "execute_result"
    }
   ],
   "source": [
    "sc.uiWebUrl"
   ]
  },
  {
   "cell_type": "code",
   "execution_count": 25,
   "id": "5d81e0fd",
   "metadata": {},
   "outputs": [
    {
     "name": "stdout",
     "output_type": "stream",
     "text": [
      "http://ip-172-31-0-176.ap-south-1.compute.internal:4040/\n"
     ]
    }
   ],
   "source": [
    "print(f\"{spark._jsc.sc().uiWebUrl().get()}/\")"
   ]
  },
  {
   "cell_type": "code",
   "execution_count": 26,
   "id": "bca6321d",
   "metadata": {},
   "outputs": [],
   "source": [
    "moviesDf.createOrReplaceTempView(\"Movies\")"
   ]
  },
  {
   "cell_type": "code",
   "execution_count": 32,
   "id": "95716625",
   "metadata": {},
   "outputs": [
    {
     "name": "stdout",
     "output_type": "stream",
     "text": [
      "+----+--------------------+--------------------+--------------------+--------------------+--------------------+----+-----------------+------+------+-----------+---------+\n",
      "|Rank|               Title|               Genre|         Description|            Director|              Actors|Year|Runtime (Minutes)|Rating| Votes|Rev_Million|Metascore|\n",
      "+----+--------------------+--------------------+--------------------+--------------------+--------------------+----+-----------------+------+------+-----------+---------+\n",
      "|   1|Guardians of the ...|Action,Adventure,...|A group of interg...|          James Gunn|Chris Pratt, Vin ...|2014|              121|   8.1|757074|     333.13|     76.0|\n",
      "|   2|          Prometheus|Adventure,Mystery...|Following clues t...|        Ridley Scott|Noomi Rapace, Log...|2012|              124|     7|485820|     126.46|     65.0|\n",
      "|   3|               Split|     Horror,Thriller|Three girls are k...|  M. Night Shyamalan|James McAvoy, Any...|2016|              117|   7.3|157606|     138.12|     62.0|\n",
      "|   4|                Sing|Animation,Comedy,...|In a city of huma...|Christophe Lourdelet|Matthew McConaugh...|2016|              108|   7.2| 60545|     270.32|     59.0|\n",
      "|   5|       Suicide Squad|Action,Adventure,...|A secret governme...|          David Ayer|Will Smith, Jared...|2016|              123|   6.2|393727|     325.02|     40.0|\n",
      "+----+--------------------+--------------------+--------------------+--------------------+--------------------+----+-----------------+------+------+-----------+---------+\n",
      "only showing top 5 rows\n",
      "\n"
     ]
    }
   ],
   "source": [
    "spark.sql(\"Select* from Movies\").show(5)"
   ]
  },
  {
   "cell_type": "code",
   "execution_count": 33,
   "id": "ebc59eb1",
   "metadata": {},
   "outputs": [
    {
     "name": "stdout",
     "output_type": "stream",
     "text": [
      "+----+--------------------+\n",
      "|Rank|               Title|\n",
      "+----+--------------------+\n",
      "|   1|Guardians of the ...|\n",
      "|   2|          Prometheus|\n",
      "|   3|               Split|\n",
      "|   4|                Sing|\n",
      "+----+--------------------+\n",
      "\n"
     ]
    }
   ],
   "source": [
    "spark.sql(\"Select Rank,Title from Movies where Rank>=1 and Rank<=4\").show(5)"
   ]
  },
  {
   "cell_type": "code",
   "execution_count": 42,
   "id": "e458324e",
   "metadata": {},
   "outputs": [
    {
     "name": "stdout",
     "output_type": "stream",
     "text": [
      "+----+-----------+--------------------+--------------------+---------------+--------------------+----+-----------------+------+------+-----------+---------+\n",
      "|Rank|      Title|               Genre|         Description|       Director|              Actors|Year|Runtime (Minutes)|Rating| Votes|Rev_Million|Metascore|\n",
      "+----+-----------+--------------------+--------------------+---------------+--------------------+----+-----------------+------+------+-----------+---------+\n",
      "|  75|   Zootopia|Animation,Adventu...|In a city of anth...|   Byron Howard|Ginnifer Goodwin,...|2016|              108|   8.1|296853|     341.26|     78.0|\n",
      "| 432|Zoolander 2|              Comedy|Derek and Hansel ...|    Ben Stiller|Ben Stiller, Owen...|2016|              102|   4.7| 48297|      28.84|     34.0|\n",
      "| 364| Zombieland|Adventure,Comedy,...|A shy student try...|Ruben Fleischer|Jesse Eisenberg, ...|2009|               88|   7.7|409403|      75.59|     73.0|\n",
      "+----+-----------+--------------------+--------------------+---------------+--------------------+----+-----------------+------+------+-----------+---------+\n",
      "only showing top 3 rows\n",
      "\n"
     ]
    }
   ],
   "source": [
    "moviesDf.sort(col(\"Title\").desc()).show(3)"
   ]
  },
  {
   "cell_type": "code",
   "execution_count": 48,
   "id": "4263735d",
   "metadata": {},
   "outputs": [
    {
     "name": "stdout",
     "output_type": "stream",
     "text": [
      "+----+--------------------+-----------+---------+\n",
      "|Rank|               Title|Rev_Million|Metascore|\n",
      "+----+--------------------+-----------+---------+\n",
      "|   1|Guardians of the ...|     333.13|     76.0|\n",
      "|   2|          Prometheus|     126.46|     65.0|\n",
      "|   3|               Split|     138.12|     62.0|\n",
      "+----+--------------------+-----------+---------+\n",
      "only showing top 3 rows\n",
      "\n"
     ]
    }
   ],
   "source": [
    "testDf = moviesDf.select(\"Rank\",\"Title\",\"Rev_Million\",\"Metascore\")\n",
    "testDf.show(3)"
   ]
  },
  {
   "cell_type": "code",
   "execution_count": 54,
   "id": "f8e21271",
   "metadata": {},
   "outputs": [
    {
     "name": "stdout",
     "output_type": "stream",
     "text": [
      "+----+--------------------+-----------+---------+--------------------+\n",
      "|Rank|               Title|Rev_Million|Metascore|     last_updated_ts|\n",
      "+----+--------------------+-----------+---------+--------------------+\n",
      "|   1|Guardians of the ...|     333.13|     76.0|2023-09-22 05:34:...|\n",
      "|   2|          Prometheus|     126.46|     65.0|2023-09-22 05:34:...|\n",
      "|   3|               Split|     138.12|     62.0|2023-09-22 05:34:...|\n",
      "+----+--------------------+-----------+---------+--------------------+\n",
      "only showing top 3 rows\n",
      "\n"
     ]
    }
   ],
   "source": [
    "from datetime import *\n",
    "testDf = testDf.withColumn(\"last_updated_ts\",lit(datetime.now()))\n",
    "testDf.show(3)"
   ]
  },
  {
   "cell_type": "code",
   "execution_count": 69,
   "id": "4986d6a1",
   "metadata": {},
   "outputs": [
    {
     "name": "stdout",
     "output_type": "stream",
     "text": [
      "+--------------------+-----------+---------+----------+\n",
      "|               Title|Rev_Million|Metascore| Update_Ts|\n",
      "+--------------------+-----------+---------+----------+\n",
      "|Guardians of the ...|     333.13|     76.0|2023-09-22|\n",
      "|          Prometheus|     126.46|     65.0|2023-09-22|\n",
      "|               Split|     138.12|     62.0|2023-09-22|\n",
      "|                Sing|     270.32|     59.0|2023-09-22|\n",
      "|       Suicide Squad|     325.02|     40.0|2023-09-22|\n",
      "|      The Great Wall|      45.13|     42.0|2023-09-22|\n",
      "|          La La Land|     151.06|     93.0|2023-09-22|\n",
      "|            Mindhorn|     2490.0|     null|2023-09-22|\n",
      "|  The Lost City of Z|       8.01|     78.0|2023-09-22|\n",
      "|          Passengers|     100.01|     41.0|2023-09-22|\n",
      "|Fantastic Beasts ...|     234.02|     66.0|2023-09-22|\n",
      "|      Hidden Figures|     169.27|     74.0|2023-09-22|\n",
      "|           Rogue One|     532.17|     65.0|2023-09-22|\n",
      "|               Moana|     248.75|     81.0|2023-09-22|\n",
      "|            Colossal|       2.87|     70.0|2023-09-22|\n",
      "|The Secret Life o...|     368.31|     61.0|2023-09-22|\n",
      "|       Hacksaw Ridge|      67.12|     71.0|2023-09-22|\n",
      "|        Jason Bourne|     162.16|     58.0|2023-09-22|\n",
      "|                Lion|      51.69|     69.0|2023-09-22|\n",
      "|             Arrival|      100.5|     81.0|2023-09-22|\n",
      "+--------------------+-----------+---------+----------+\n",
      "only showing top 20 rows\n",
      "\n"
     ]
    }
   ],
   "source": [
    "testdf = testDf.selectExpr(\"Title\",\"Rev_Million\",\"Metascore\",\"CAST(last_updated_ts AS DATE) AS Update_Ts\")\n",
    "testdf.show()"
   ]
  },
  {
   "cell_type": "code",
   "execution_count": 59,
   "id": "a2962f33",
   "metadata": {},
   "outputs": [
    {
     "name": "stdout",
     "output_type": "stream",
     "text": [
      "+--------------------+\n",
      "|           MovieName|\n",
      "+--------------------+\n",
      "|Guardians of the ...|\n",
      "|          Prometheus|\n",
      "|               Split|\n",
      "+--------------------+\n",
      "only showing top 3 rows\n",
      "\n",
      "+----+--------------------+-----------+---------+--------------------+\n",
      "|Rank|               Title|Rev_Million|Metascore|     last_updated_ts|\n",
      "+----+--------------------+-----------+---------+--------------------+\n",
      "|   1|Guardians of the ...|     333.13|     76.0|2023-09-22 05:34:...|\n",
      "|   2|          Prometheus|     126.46|     65.0|2023-09-22 05:34:...|\n",
      "|   3|               Split|     138.12|     62.0|2023-09-22 05:34:...|\n",
      "+----+--------------------+-----------+---------+--------------------+\n",
      "only showing top 3 rows\n",
      "\n"
     ]
    }
   ],
   "source": [
    "testDf.select(col(\"Title\").alias(\"MovieName\")).show(3)\n",
    "# testDf.show(3)"
   ]
  },
  {
   "cell_type": "code",
   "execution_count": 71,
   "id": "95923373",
   "metadata": {},
   "outputs": [
    {
     "name": "stdout",
     "output_type": "stream",
     "text": [
      "+--------------------+-----------+---------+----------+--------------------+\n",
      "|               Title|Rev_Million|Metascore| Update_Ts|           MovieName|\n",
      "+--------------------+-----------+---------+----------+--------------------+\n",
      "|Guardians of the ...|     333.13|     76.0|2023-09-22|Guardians of the ...|\n",
      "|          Prometheus|     126.46|     65.0|2023-09-22|          Prometheus|\n",
      "|               Split|     138.12|     62.0|2023-09-22|               Split|\n",
      "|                Sing|     270.32|     59.0|2023-09-22|                Sing|\n",
      "|       Suicide Squad|     325.02|     40.0|2023-09-22|       Suicide Squad|\n",
      "|      The Great Wall|      45.13|     42.0|2023-09-22|      The Great Wall|\n",
      "|          La La Land|     151.06|     93.0|2023-09-22|          La La Land|\n",
      "|            Mindhorn|     2490.0|     null|2023-09-22|            Mindhorn|\n",
      "|  The Lost City of Z|       8.01|     78.0|2023-09-22|  The Lost City of Z|\n",
      "|          Passengers|     100.01|     41.0|2023-09-22|          Passengers|\n",
      "|Fantastic Beasts ...|     234.02|     66.0|2023-09-22|Fantastic Beasts ...|\n",
      "|      Hidden Figures|     169.27|     74.0|2023-09-22|      Hidden Figures|\n",
      "|           Rogue One|     532.17|     65.0|2023-09-22|           Rogue One|\n",
      "|               Moana|     248.75|     81.0|2023-09-22|               Moana|\n",
      "|            Colossal|       2.87|     70.0|2023-09-22|            Colossal|\n",
      "|The Secret Life o...|     368.31|     61.0|2023-09-22|The Secret Life o...|\n",
      "|       Hacksaw Ridge|      67.12|     71.0|2023-09-22|       Hacksaw Ridge|\n",
      "|        Jason Bourne|     162.16|     58.0|2023-09-22|        Jason Bourne|\n",
      "|                Lion|      51.69|     69.0|2023-09-22|                Lion|\n",
      "|             Arrival|      100.5|     81.0|2023-09-22|             Arrival|\n",
      "+--------------------+-----------+---------+----------+--------------------+\n",
      "only showing top 20 rows\n",
      "\n"
     ]
    }
   ],
   "source": [
    "testdf = testdf.withColumn(\"MovieName\",col(\"Title\"))\n",
    "testdf.show()"
   ]
  },
  {
   "cell_type": "code",
   "execution_count": 72,
   "id": "a8cfe2d0",
   "metadata": {},
   "outputs": [
    {
     "data": {
      "text/plain": [
       "1000"
      ]
     },
     "execution_count": 72,
     "metadata": {},
     "output_type": "execute_result"
    }
   ],
   "source": [
    "testdf.count()"
   ]
  },
  {
   "cell_type": "code",
   "execution_count": 109,
   "id": "5af91174",
   "metadata": {},
   "outputs": [
    {
     "name": "stdout",
     "output_type": "stream",
     "text": [
      "+----+--------------------+-----------+---------+------------------+----+\n",
      "|Rank|               Title|Rev_Million|Metascore|          Director|Year|\n",
      "+----+--------------------+-----------+---------+------------------+----+\n",
      "|   1|Guardians of the ...|     333.13|     76.0|        James Gunn|2014|\n",
      "|   2|          Prometheus|     126.46|     65.0|      Ridley Scott|2012|\n",
      "|   3|               Split|     138.12|     62.0|M. Night Shyamalan|2016|\n",
      "+----+--------------------+-----------+---------+------------------+----+\n",
      "only showing top 3 rows\n",
      "\n"
     ]
    }
   ],
   "source": [
    "testDf = moviesDf.select(\"Rank\",\"Title\",\"Rev_Million\",\"Metascore\",\"Director\",\"Year\")\n",
    "testDf.show(3)"
   ]
  },
  {
   "cell_type": "code",
   "execution_count": 86,
   "id": "7b903695",
   "metadata": {},
   "outputs": [
    {
     "name": "stdout",
     "output_type": "stream",
     "text": [
      "1000\n",
      "987\n"
     ]
    }
   ],
   "source": [
    "print(testDf.count())\n",
    "droppedDf = testDf.dropDuplicates([\"Director\",\"Year\"])\n",
    "print(droppedDf.count())"
   ]
  },
  {
   "cell_type": "code",
   "execution_count": 110,
   "id": "5aecdbf8",
   "metadata": {},
   "outputs": [
    {
     "name": "stdout",
     "output_type": "stream",
     "text": [
      "+----+--------------------+-----------+---------+------------------+----+--------------------+\n",
      "|Rank|               Title|Rev_Million|Metascore|          Director|Year|             Combine|\n",
      "+----+--------------------+-----------+---------+------------------+----+--------------------+\n",
      "|   1|Guardians of the ...|     333.13|     76.0|        James Gunn|2014|Guardians of the ...|\n",
      "|   2|          Prometheus|     126.46|     65.0|      Ridley Scott|2012|Prometheus || Rid...|\n",
      "|   3|               Split|     138.12|     62.0|M. Night Shyamalan|2016|Split || M. Night...|\n",
      "+----+--------------------+-----------+---------+------------------+----+--------------------+\n",
      "only showing top 3 rows\n",
      "\n"
     ]
    }
   ],
   "source": [
    "testDf.withColumn(\"Combine\",concat_ws(\" || \",col(\"Title\"),col(\"Director\"))).show(3)"
   ]
  },
  {
   "cell_type": "code",
   "execution_count": 83,
   "id": "45072523",
   "metadata": {},
   "outputs": [
    {
     "name": "stdout",
     "output_type": "stream",
     "text": [
      "+----+--------------------+-----------+---------+------------------+------------------+\n",
      "|Rank|               Title|Rev_Million|Metascore|          Director|        TotalScore|\n",
      "+----+--------------------+-----------+---------+------------------+------------------+\n",
      "|   1|Guardians of the ...|     333.13|     76.0|        James Gunn|            409.13|\n",
      "|   2|          Prometheus|     126.46|     65.0|      Ridley Scott|191.45999999999998|\n",
      "|   3|               Split|     138.12|     62.0|M. Night Shyamalan|            200.12|\n",
      "+----+--------------------+-----------+---------+------------------+------------------+\n",
      "only showing top 3 rows\n",
      "\n"
     ]
    }
   ],
   "source": [
    "testDf.withColumn(\"TotalScore\",(col(\"Rev_Million\")+col(\"Metascore\"))).show(3)"
   ]
  },
  {
   "cell_type": "code",
   "execution_count": 84,
   "id": "2a8c25fb",
   "metadata": {},
   "outputs": [
    {
     "name": "stdout",
     "output_type": "stream",
     "text": [
      "root\n",
      " |-- Rank: integer (nullable = true)\n",
      " |-- Title: string (nullable = true)\n",
      " |-- Genre: string (nullable = true)\n",
      " |-- Description: string (nullable = true)\n",
      " |-- Director: string (nullable = true)\n",
      " |-- Actors: string (nullable = true)\n",
      " |-- Year: string (nullable = true)\n",
      " |-- Runtime (Minutes): string (nullable = true)\n",
      " |-- Rating: string (nullable = true)\n",
      " |-- Votes: string (nullable = true)\n",
      " |-- Rev_Million: double (nullable = true)\n",
      " |-- Metascore: double (nullable = true)\n",
      "\n"
     ]
    }
   ],
   "source": [
    "moviesDf.printSchema()"
   ]
  },
  {
   "cell_type": "code",
   "execution_count": 87,
   "id": "1042b88d",
   "metadata": {},
   "outputs": [
    {
     "name": "stdout",
     "output_type": "stream",
     "text": [
      "+----+--------------------+-----------+------+----+\n",
      "|Rank|               Title|Rev_Million|Rating|Year|\n",
      "+----+--------------------+-----------+------+----+\n",
      "|   1|Guardians of the ...|     333.13|   8.1|2014|\n",
      "|   2|          Prometheus|     126.46|     7|2012|\n",
      "|   3|               Split|     138.12|   7.3|2016|\n",
      "+----+--------------------+-----------+------+----+\n",
      "only showing top 3 rows\n",
      "\n"
     ]
    }
   ],
   "source": [
    "testDf = moviesDf.select(\"Rank\",\"Title\",\"Rev_Million\",\"Rating\",\"Year\")\n",
    "testDf.show(3)"
   ]
  },
  {
   "cell_type": "code",
   "execution_count": 91,
   "id": "1a1a1844",
   "metadata": {},
   "outputs": [],
   "source": [
    "testDf = testDf.withColumn(\"Rating_value\",when(col(\"Rating\")<=5,\"Average\").when((col(\"Rating\")>5) & (col(\"Rating\")<=8),\"Good\").when((col(\"Rating\")>8) & (col(\"Rating\")<=10),\"Best\").otherwise(\"NA\"))"
   ]
  },
  {
   "cell_type": "code",
   "execution_count": 102,
   "id": "504c9478",
   "metadata": {},
   "outputs": [
    {
     "name": "stdout",
     "output_type": "stream",
     "text": [
      "+----+--------------------+-----------+------+--------------------+------------+\n",
      "|Rank|               Title|Rev_Million|Rating|                Year|Rating_value|\n",
      "+----+--------------------+-----------+------+--------------------+------------+\n",
      "| 830|      Disaster Movie|      14.17|   1.9|                2008|     Average|\n",
      "| 429|         Srpski film|    43648.0|   104|Srdjan 'Zika' Tod...|          NA|\n",
      "| 984|       Let's Be Cops|   112729.0|   104|Jake Johnson, Dam...|          NA|\n",
      "| 202| A Cure for Wellness|    12193.0|   146|Dane DeHaan, Jaso...|          NA|\n",
      "|  43|Don't Fuck in the...|       null|   2.7|                2016|     Average|\n",
      "| 872|Dragonball Evolution|       9.35|   2.7|                2009|     Average|\n",
      "| 560|           Idiocracy|        6.6|  2006|          Mike Judge|          NA|\n",
      "| 632|       The Interview|        6.6|  2014|       Evan Goldberg|          NA|\n",
      "| 185|          Forushande|        8.0|  2016|      Asghar Farhadi|          NA|\n",
      "| 604|     Kung Fu Panda 3|        7.2|  2016|  Alessandro Carloni|          NA|\n",
      "| 648|            Tall Men|       null|   3.2|                2016|     Average|\n",
      "| 891|          The Intent|       null|   3.5|                2016|     Average|\n",
      "| 270|             Satanic|       null|   3.7|                2016|     Average|\n",
      "|  50|       The Last Face|       null|   3.7|                2016|     Average|\n",
      "| 238|The Disappointmen...|       2.41|   3.9|                2016|     Average|\n",
      "| 402|      The Black Room|       null|   3.9|                2016|     Average|\n",
      "| 526| Birth of the Dragon|      93.05|   3.9|                2016|     Average|\n",
      "| 617|2307: Winter's Dream|      20.76|     4|                2016|     Average|\n",
      "|  64|Fifty Shades of Grey|     166.15|   4.1|                2015|     Average|\n",
      "| 582|  The Last Airbender|       null|   4.2|                2010|     Average|\n",
      "+----+--------------------+-----------+------+--------------------+------------+\n",
      "only showing top 20 rows\n",
      "\n"
     ]
    }
   ],
   "source": [
    "testDf.sort(col(\"Rating\")).show()"
   ]
  },
  {
   "cell_type": "code",
   "execution_count": 103,
   "id": "a8832998",
   "metadata": {},
   "outputs": [
    {
     "name": "stdout",
     "output_type": "stream",
     "text": [
      "+----+--------------------+-----------+-----------------+--------------------+------------+\n",
      "|Rank|               Title|Rev_Million|           Rating|                Year|Rating_value|\n",
      "+----+--------------------+-----------+-----------------+--------------------+------------+\n",
      "| 386|             Everest|     2015.0|Baltasar Kormákur| together with Sc...|          NA|\n",
      "| 619|           Mr. Right|    30053.0|               95|Anna Kendrick, Sa...|          NA|\n",
      "| 978|       Amateur Night|     2229.0|               92|Jason Biggs, Jane...|          NA|\n",
      "|  55|     The Dark Knight|     533.32|                9|                2008|        Best|\n",
      "|   8|            Mindhorn|     2490.0|               89|Essie Davis, Andr...|          NA|\n",
      "| 969|             Wrecker|     1210.0|               83|Anna Hutchison, A...|          NA|\n",
      "|  81|           Inception|     292.57|              8.8|                2010|        Good|\n",
      "| 118|              Dangal|      11.15|              8.8|                2016|        Good|\n",
      "|  37|        Interstellar|     187.99|              8.6|                2014|        Good|\n",
      "|  97|       Kimi no na wa|       4.68|              8.6|                2016|        Good|\n",
      "| 250|    The Intouchables|      13.18|              8.6|                2011|        Good|\n",
      "| 477| The Lives of Others|      11.28|              8.5|                2006|        Good|\n",
      "| 134|            Whiplash|      13.09|              8.5|                2014|        Good|\n",
      "| 125|The Dark Knight R...|     448.13|              8.5|                2012|        Good|\n",
      "| 992|    Taare Zameen Par|        1.2|              8.5|                2007|        Good|\n",
      "| 100|        The Departed|     132.37|              8.5|                2006|        Good|\n",
      "|  65|        The Prestige|      53.08|              8.5|                2006|        Good|\n",
      "| 145|    Django Unchained|      162.8|              8.4|                2012|        Good|\n",
      "| 431|            3 Idiots|       6.52|              8.4|                2009|        Good|\n",
      "| 635|              WALL·E|     223.81|              8.4|                2008|        Good|\n",
      "+----+--------------------+-----------+-----------------+--------------------+------------+\n",
      "only showing top 20 rows\n",
      "\n"
     ]
    }
   ],
   "source": [
    "testDf.sort(col(\"Rating\").desc()).show()"
   ]
  },
  {
   "cell_type": "code",
   "execution_count": 111,
   "id": "5ba9cd25",
   "metadata": {},
   "outputs": [],
   "source": [
    "def concat_shell(column):\n",
    "    return column+\"_shell\""
   ]
  },
  {
   "cell_type": "code",
   "execution_count": 112,
   "id": "e6ad8245",
   "metadata": {},
   "outputs": [],
   "source": [
    "shell_add = udf(concat_shell,StringType())"
   ]
  },
  {
   "cell_type": "code",
   "execution_count": 113,
   "id": "5d62e520",
   "metadata": {},
   "outputs": [
    {
     "name": "stderr",
     "output_type": "stream",
     "text": [
      "\r",
      "[Stage 95:>                                                         (0 + 1) / 1]\r"
     ]
    },
    {
     "name": "stdout",
     "output_type": "stream",
     "text": [
      "+----+--------------------+-----------+---------+------------------+----+--------------------+\n",
      "|Rank|               Title|Rev_Million|Metascore|          Director|Year|             new_col|\n",
      "+----+--------------------+-----------+---------+------------------+----+--------------------+\n",
      "|   1|Guardians of the ...|     333.13|     76.0|        James Gunn|2014|Guardians of the ...|\n",
      "|   2|          Prometheus|     126.46|     65.0|      Ridley Scott|2012|    Prometheus_shell|\n",
      "|   3|               Split|     138.12|     62.0|M. Night Shyamalan|2016|         Split_shell|\n",
      "+----+--------------------+-----------+---------+------------------+----+--------------------+\n",
      "only showing top 3 rows\n",
      "\n"
     ]
    },
    {
     "name": "stderr",
     "output_type": "stream",
     "text": [
      "\r",
      "                                                                                \r"
     ]
    }
   ],
   "source": [
    "testDf.withColumn(\"new_col\",shell_add(col(\"Title\"))).show(3)"
   ]
  },
  {
   "cell_type": "code",
   "execution_count": 124,
   "id": "2a2a0c0f",
   "metadata": {},
   "outputs": [
    {
     "name": "stdout",
     "output_type": "stream",
     "text": [
      "root\n",
      " |-- _c0: string (nullable = true)\n",
      " |-- apples: integer (nullable = true)\n",
      " |-- oranges: integer (nullable = true)\n",
      "\n"
     ]
    }
   ],
   "source": [
    "purchaseDf = spark.read.option(\"header\",True).option(\"inferSchema\",True).csv(\"/home/labuser/Downloads/purchases.csv\")\n",
    "purchaseDf.printSchema()"
   ]
  },
  {
   "cell_type": "code",
   "execution_count": 125,
   "id": "a16c4a6f",
   "metadata": {},
   "outputs": [
    {
     "name": "stderr",
     "output_type": "stream",
     "text": [
      "23/09/22 08:33:54 WARN CacheManager: Asked to cache already cached data.\n"
     ]
    }
   ],
   "source": [
    "new = purchaseDf.cache()"
   ]
  },
  {
   "cell_type": "code",
   "execution_count": 128,
   "id": "b34889ac",
   "metadata": {},
   "outputs": [
    {
     "name": "stdout",
     "output_type": "stream",
     "text": [
      "+------+------+-------+\n",
      "|   _c0|apples|oranges|\n",
      "+------+------+-------+\n",
      "|  June|     3|      0|\n",
      "|Robert|     2|      3|\n",
      "|  Lily|     0|      7|\n",
      "| David|     1|      2|\n",
      "+------+------+-------+\n",
      "\n"
     ]
    }
   ],
   "source": [
    "new.show()"
   ]
  },
  {
   "cell_type": "code",
   "execution_count": null,
   "id": "8333ec71",
   "metadata": {},
   "outputs": [],
   "source": []
  }
 ],
 "metadata": {
  "kernelspec": {
   "display_name": "Python 3 (ipykernel)",
   "language": "python",
   "name": "python3"
  },
  "language_info": {
   "codemirror_mode": {
    "name": "ipython",
    "version": 3
   },
   "file_extension": ".py",
   "mimetype": "text/x-python",
   "name": "python",
   "nbconvert_exporter": "python",
   "pygments_lexer": "ipython3",
   "version": "3.11.4"
  }
 },
 "nbformat": 4,
 "nbformat_minor": 5
}
