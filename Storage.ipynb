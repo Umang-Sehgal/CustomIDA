{
 "cells": [
  {
   "cell_type": "code",
   "execution_count": 1,
   "id": "d96d1aa4",
   "metadata": {},
   "outputs": [],
   "source": [
    "import findspark"
   ]
  },
  {
   "cell_type": "code",
   "execution_count": 2,
   "id": "804b4f50",
   "metadata": {},
   "outputs": [],
   "source": [
    "findspark.init()"
   ]
  },
  {
   "cell_type": "code",
   "execution_count": 3,
   "id": "79fbc4ea",
   "metadata": {},
   "outputs": [
    {
     "name": "stderr",
     "output_type": "stream",
     "text": [
      "Setting default log level to \"WARN\".\n",
      "To adjust logging level use sc.setLogLevel(newLevel). For SparkR, use setLogLevel(newLevel).\n",
      "23/09/25 03:53:13 WARN NativeCodeLoader: Unable to load native-hadoop library for your platform... using builtin-java classes where applicable\n"
     ]
    }
   ],
   "source": [
    "from pyspark.sql import SparkSession\n",
    "#Initialize Spark Session\n",
    "spark = SparkSession.builder.appName(\"TestApp\").getOrCreate()"
   ]
  },
  {
   "cell_type": "code",
   "execution_count": 4,
   "id": "c7ed0bee",
   "metadata": {},
   "outputs": [],
   "source": [
    "sc=spark.sparkContext"
   ]
  },
  {
   "cell_type": "code",
   "execution_count": 43,
   "id": "9daecc3a",
   "metadata": {},
   "outputs": [],
   "source": [
    "testData = [(\"James\",\"Sales\",\"NY\",90000,34,10000),\n",
    "    (\"Michael\",\"Sales\",\"NY\",86000,56,20000),\n",
    "    (\"Robert\",\"Sales\",\"CA\",81000,30,23000),\n",
    "    (\"Maria\",\"Finance\",\"CA\",90000,24,23000),\n",
    "    (\"Raman\",\"Finance\",\"CA\",99000,40,24000),\n",
    "    (\"Scott\",\"Finance\",\"NY\",83000,36,19000),\n",
    "    (\"Jen\",\"Finance\",\"NY\",79000,53,15000),\n",
    "    (\"Jeff\",\"Marketing\",\"CA\",80000,25,18000),\n",
    "    (\"Kumar\",\"Marketing\",\"NY\",91000,50,21000)\n",
    "  ]\n",
    "\n",
    "\n",
    "udScehma = [\"employee_name\",\"department\",\"state\",\"salary\",\"age\",\"bonus\"]\n",
    "\n",
    "testDf = spark.createDataFrame(data=testData,schema = udScehma)"
   ]
  },
  {
   "cell_type": "code",
   "execution_count": 34,
   "id": "4301c67d",
   "metadata": {},
   "outputs": [
    {
     "data": {
      "text/plain": [
       "DataFrame[employee_name: string, department: string, state: string, salary: bigint, age: bigint, bonus: bigint]"
      ]
     },
     "execution_count": 34,
     "metadata": {},
     "output_type": "execute_result"
    }
   ],
   "source": [
    "from pyspark import StorageLevel\n",
    "testDf.persist(StorageLevel.MEMORY_ONLY)"
   ]
  },
  {
   "cell_type": "code",
   "execution_count": 23,
   "id": "07fddf7e",
   "metadata": {},
   "outputs": [
    {
     "data": {
      "text/plain": [
       "'http://ip-172-31-0-176.ap-south-1.compute.internal:4040'"
      ]
     },
     "execution_count": 23,
     "metadata": {},
     "output_type": "execute_result"
    }
   ],
   "source": [
    "sc.uiWebUrl"
   ]
  },
  {
   "cell_type": "code",
   "execution_count": 25,
   "id": "958ca624",
   "metadata": {},
   "outputs": [
    {
     "name": "stdout",
     "output_type": "stream",
     "text": [
      "3.11.4 (main, Jul  5 2023, 14:15:25) [GCC 11.2.0]\n"
     ]
    }
   ],
   "source": [
    "import sys\n",
    "print(sys.version)bccb"
   ]
  },
  {
   "cell_type": "code",
   "execution_count": 35,
   "id": "ab1daed4",
   "metadata": {},
   "outputs": [
    {
     "data": {
      "text/plain": [
       "9"
      ]
     },
     "execution_count": 35,
     "metadata": {},
     "output_type": "execute_result"
    }
   ],
   "source": [
    "from pyspark.sql.functions import *\n",
    "testDf.count()"
   ]
  },
  {
   "cell_type": "code",
   "execution_count": 33,
   "id": "640d7fb5",
   "metadata": {},
   "outputs": [
    {
     "data": {
      "text/plain": [
       "DataFrame[employee_name: string, department: string, state: string, salary: bigint, age: bigint, bonus: bigint]"
      ]
     },
     "execution_count": 33,
     "metadata": {},
     "output_type": "execute_result"
    }
   ],
   "source": [
    "testDf.unpersist()"
   ]
  },
  {
   "cell_type": "code",
   "execution_count": 38,
   "id": "3bc60cfb",
   "metadata": {},
   "outputs": [
    {
     "name": "stdout",
     "output_type": "stream",
     "text": [
      "+----------+-----+------------+-----------+\n",
      "|department|state|Total_Salary|Total_bonus|\n",
      "+----------+-----+------------+-----------+\n",
      "|     Sales|   CA|       81000|      23000|\n",
      "|   Finance|   CA|      189000|      47000|\n",
      "|     Sales|   NY|      176000|      30000|\n",
      "|   Finance|   NY|      162000|      34000|\n",
      "| Marketing|   NY|       91000|      21000|\n",
      "| Marketing|   CA|       80000|      18000|\n",
      "+----------+-----+------------+-----------+\n",
      "\n"
     ]
    }
   ],
   "source": [
    "testDf.groupBy(\"department\",\"state\").agg(sum(\"salary\").alias(\"Total_Salary\"),sum(\"bonus\").alias(\"Total_bonus\")).show()"
   ]
  },
  {
   "cell_type": "code",
   "execution_count": 45,
   "id": "059f241e",
   "metadata": {},
   "outputs": [],
   "source": [
    "testDf.createOrReplaceTempView(\"IDA\")"
   ]
  },
  {
   "cell_type": "code",
   "execution_count": 46,
   "id": "56092cd9",
   "metadata": {},
   "outputs": [
    {
     "name": "stdout",
     "output_type": "stream",
     "text": [
      "+-------------+----------+-----+------+---+-----+\n",
      "|employee_name|department|state|salary|age|bonus|\n",
      "+-------------+----------+-----+------+---+-----+\n",
      "|        James|     Sales|   NY| 90000| 34|10000|\n",
      "|      Michael|     Sales|   NY| 86000| 56|20000|\n",
      "|       Robert|     Sales|   CA| 81000| 30|23000|\n",
      "|        Maria|   Finance|   CA| 90000| 24|23000|\n",
      "|        Raman|   Finance|   CA| 99000| 40|24000|\n",
      "|        Scott|   Finance|   NY| 83000| 36|19000|\n",
      "|          Jen|   Finance|   NY| 79000| 53|15000|\n",
      "|         Jeff| Marketing|   CA| 80000| 25|18000|\n",
      "|        Kumar| Marketing|   NY| 91000| 50|21000|\n",
      "+-------------+----------+-----+------+---+-----+\n",
      "\n"
     ]
    }
   ],
   "source": [
    "spark.sql(\"SELECT * FROM IDA\").show()"
   ]
  },
  {
   "cell_type": "code",
   "execution_count": 47,
   "id": "0172482e",
   "metadata": {},
   "outputs": [
    {
     "name": "stdout",
     "output_type": "stream",
     "text": [
      "+----------+-----+------------+--------------+\n",
      "|department|state|Total_Salary|Average_Salary|\n",
      "+----------+-----+------------+--------------+\n",
      "|   Finance|   CA|      189000|       94500.0|\n",
      "| Marketing|   NY|       91000|       91000.0|\n",
      "+----------+-----+------------+--------------+\n",
      "\n"
     ]
    }
   ],
   "source": [
    "testDf.groupBy(\"department\",\"state\").agg(sum(\"salary\").alias(\"Total_Salary\"),avg(\"salary\").alias(\"Average_Salary\")).where(col(\"Average_Salary\")>90000).show()"
   ]
  },
  {
   "cell_type": "code",
   "execution_count": 48,
   "id": "9f5ef171",
   "metadata": {},
   "outputs": [
    {
     "data": {
      "text/plain": [
       "DataFrame[]"
      ]
     },
     "execution_count": 48,
     "metadata": {},
     "output_type": "execute_result"
    }
   ],
   "source": [
    "spark.sql(\"CREATE DATABASE testDB\")"
   ]
  },
  {
   "cell_type": "code",
   "execution_count": 49,
   "id": "2a5521a5",
   "metadata": {},
   "outputs": [
    {
     "data": {
      "text/plain": [
       "DataFrame[]"
      ]
     },
     "execution_count": 49,
     "metadata": {},
     "output_type": "execute_result"
    }
   ],
   "source": [
    "spark.sql(\"USE testDB\")"
   ]
  },
  {
   "cell_type": "code",
   "execution_count": 69,
   "id": "1810a6e8",
   "metadata": {},
   "outputs": [
    {
     "name": "stderr",
     "output_type": "stream",
     "text": [
      "\r",
      "[Stage 23:>                                                         (0 + 2) / 2]\r",
      "\r",
      "                                                                                \r"
     ]
    }
   ],
   "source": [
    "df.write.saveAsTable(\"empTable\")"
   ]
  },
  {
   "cell_type": "code",
   "execution_count": 52,
   "id": "64d6b502",
   "metadata": {},
   "outputs": [
    {
     "name": "stdout",
     "output_type": "stream",
     "text": [
      "+--------------------+--------------------+-------+\n",
      "|            col_name|           data_type|comment|\n",
      "+--------------------+--------------------+-------+\n",
      "|       employee_name|              string|   null|\n",
      "|          department|              string|   null|\n",
      "|               state|              string|   null|\n",
      "|              salary|              bigint|   null|\n",
      "|                 age|              bigint|   null|\n",
      "|               bonus|              bigint|   null|\n",
      "|                    |                    |       |\n",
      "|# Detailed Table ...|                    |       |\n",
      "|             Catalog|       spark_catalog|       |\n",
      "|            Database|              testdb|       |\n",
      "|               Table|            emptable|       |\n",
      "|        Created Time|Mon Sep 25 05:25:...|       |\n",
      "|         Last Access|             UNKNOWN|       |\n",
      "|          Created By|         Spark 3.4.1|       |\n",
      "|                Type|             MANAGED|       |\n",
      "|            Provider|             parquet|       |\n",
      "|            Location|file:/home/labuse...|       |\n",
      "+--------------------+--------------------+-------+\n",
      "\n"
     ]
    }
   ],
   "source": [
    "spark.sql(\"DESCRIBE EXTENDED empTable\").show()"
   ]
  },
  {
   "cell_type": "code",
   "execution_count": 71,
   "id": "34bac908",
   "metadata": {},
   "outputs": [
    {
     "name": "stderr",
     "output_type": "stream",
     "text": [
      "                                                                                \r"
     ]
    }
   ],
   "source": [
    "df.write.option(\"path\",\"/home/labuser/Downloads/new/\").saveAsTable(\"empTable_unmanaged\")"
   ]
  },
  {
   "cell_type": "code",
   "execution_count": 67,
   "id": "5b3f9721",
   "metadata": {},
   "outputs": [
    {
     "data": {
      "text/plain": [
       "DataFrame[]"
      ]
     },
     "execution_count": 67,
     "metadata": {},
     "output_type": "execute_result"
    }
   ],
   "source": [
    "spark.sql(\"drop table empTable_unmanaged\")"
   ]
  },
  {
   "cell_type": "code",
   "execution_count": 73,
   "id": "beb0e36f",
   "metadata": {},
   "outputs": [
    {
     "name": "stdout",
     "output_type": "stream",
     "text": [
      "+--------------------+--------------------+-------+\n",
      "|            col_name|           data_type|comment|\n",
      "+--------------------+--------------------+-------+\n",
      "|       employee_name|              string|   null|\n",
      "|          department|              string|   null|\n",
      "|               state|              string|   null|\n",
      "|              salary|              bigint|   null|\n",
      "|                 age|              bigint|   null|\n",
      "|               bonus|              bigint|   null|\n",
      "|                    |                    |       |\n",
      "|# Detailed Table ...|                    |       |\n",
      "|             Catalog|       spark_catalog|       |\n",
      "|            Database|              testdb|       |\n",
      "|               Table|  emptable_unmanaged|       |\n",
      "|        Created Time|Mon Sep 25 05:48:...|       |\n",
      "|         Last Access|             UNKNOWN|       |\n",
      "|          Created By|         Spark 3.4.1|       |\n",
      "|                Type|            EXTERNAL|       |\n",
      "|            Provider|             parquet|       |\n",
      "|            Location|file:///home/labu...|       |\n",
      "+--------------------+--------------------+-------+\n",
      "\n"
     ]
    }
   ],
   "source": [
    "spark.sql(\"DESCRIBE EXTENDED empTable_unmanaged\").show()"
   ]
  },
  {
   "cell_type": "code",
   "execution_count": 65,
   "id": "0a8f4d32",
   "metadata": {},
   "outputs": [
    {
     "data": {
      "text/plain": [
       "DataFrame[]"
      ]
     },
     "execution_count": 65,
     "metadata": {},
     "output_type": "execute_result"
    }
   ],
   "source": [
    "spark.sql(\"DROP TABLE empTable\")"
   ]
  },
  {
   "cell_type": "code",
   "execution_count": 72,
   "id": "2b041891",
   "metadata": {},
   "outputs": [
    {
     "name": "stdout",
     "output_type": "stream",
     "text": [
      "+--------------------+--------------------+-------+\n",
      "|            col_name|           data_type|comment|\n",
      "+--------------------+--------------------+-------+\n",
      "|       employee_name|              string|   null|\n",
      "|          department|              string|   null|\n",
      "|               state|              string|   null|\n",
      "|              salary|              bigint|   null|\n",
      "|                 age|              bigint|   null|\n",
      "|               bonus|              bigint|   null|\n",
      "|                    |                    |       |\n",
      "|# Detailed Table ...|                    |       |\n",
      "|             Catalog|       spark_catalog|       |\n",
      "|            Database|              testdb|       |\n",
      "|               Table|            emptable|       |\n",
      "|        Created Time|Mon Sep 25 05:48:...|       |\n",
      "|         Last Access|             UNKNOWN|       |\n",
      "|          Created By|         Spark 3.4.1|       |\n",
      "|                Type|             MANAGED|       |\n",
      "|            Provider|             parquet|       |\n",
      "|            Location|file:/home/labuse...|       |\n",
      "+--------------------+--------------------+-------+\n",
      "\n"
     ]
    }
   ],
   "source": [
    "spark.sql(\"DESCRIBE EXTENDED empTable\").show()"
   ]
  },
  {
   "cell_type": "code",
   "execution_count": 75,
   "id": "af80bd67",
   "metadata": {},
   "outputs": [
    {
     "name": "stderr",
     "output_type": "stream",
     "text": [
      "                                                                                \r"
     ]
    }
   ],
   "source": [
    "testDf.write.partitionBy(\"age\").csv(\"/home/labuser/Downloads/empPar/\")"
   ]
  },
  {
   "cell_type": "code",
   "execution_count": 78,
   "id": "e9ecdece",
   "metadata": {},
   "outputs": [
    {
     "data": {
      "text/plain": [
       "DataFrame[summary: string, employee_name: string, department: string, state: string, salary: string, age: string, bonus: string]"
      ]
     },
     "execution_count": 78,
     "metadata": {},
     "output_type": "execute_result"
    }
   ],
   "source": [
    "testDf.describe()"
   ]
  },
  {
   "cell_type": "code",
   "execution_count": 81,
   "id": "8655ad17",
   "metadata": {},
   "outputs": [
    {
     "name": "stderr",
     "output_type": "stream",
     "text": [
      "\r",
      "[Stage 26:>                                                         (0 + 1) / 1]\r",
      "\r",
      "                                                                                \r"
     ]
    }
   ],
   "source": [
    "testDf.coalesce(1).write.partitionBy(\"state\",\"department\").csv(\"/home/labuser/Downloads/empParCol/\")"
   ]
  },
  {
   "cell_type": "code",
   "execution_count": 82,
   "id": "a1232001",
   "metadata": {},
   "outputs": [],
   "source": [
    "def printState(df):\n",
    "    print(df.state)"
   ]
  },
  {
   "cell_type": "code",
   "execution_count": 84,
   "id": "6fd7a2a4",
   "metadata": {},
   "outputs": [
    {
     "name": "stderr",
     "output_type": "stream",
     "text": [
      "NYtage 27:>                                                         (0 + 2) / 2]\n",
      "NY\n",
      "CA\n",
      "CA\n",
      "CA\n",
      "NY\n",
      "NY\n",
      "CA\n",
      "NY\n",
      "                                                                                \r"
     ]
    }
   ],
   "source": [
    "testDf.foreach(printState)"
   ]
  },
  {
   "cell_type": "code",
   "execution_count": 85,
   "id": "6131f2b0",
   "metadata": {},
   "outputs": [],
   "source": [
    "json_data = [\n",
    "    '{\"name\": \"Alice\", \"age\": 25}',\n",
    "    '{\"name\": \"Bob\", \"age\": 30}',\n",
    "    '{\"name\": \"Charlie\", \"age\": 35}'\n",
    "]"
   ]
  },
  {
   "cell_type": "code",
   "execution_count": 86,
   "id": "a6f5bec2",
   "metadata": {},
   "outputs": [],
   "source": [
    "from pyspark.sql.functions import *\n",
    "from pyspark.sql.types import *\n",
    "schema = StructType([\n",
    "    StructField(\"name\", StringType(), True),\n",
    "    StructField(\"age\", IntegerType(), True)\n",
    "])"
   ]
  },
  {
   "cell_type": "code",
   "execution_count": 87,
   "id": "1e908445",
   "metadata": {},
   "outputs": [],
   "source": [
    "df = spark.read.schema(schema).json(spark.sparkContext.parallelize(json_data))"
   ]
  },
  {
   "cell_type": "code",
   "execution_count": 88,
   "id": "07c1faee",
   "metadata": {},
   "outputs": [
    {
     "name": "stderr",
     "output_type": "stream",
     "text": [
      "\r",
      "[Stage 28:>                                                         (0 + 1) / 1]\r",
      "\r",
      "                                                                                \r"
     ]
    },
    {
     "name": "stdout",
     "output_type": "stream",
     "text": [
      "+-------+---+\n",
      "|   name|age|\n",
      "+-------+---+\n",
      "|  Alice| 25|\n",
      "|    Bob| 30|\n",
      "|Charlie| 35|\n",
      "+-------+---+\n",
      "\n"
     ]
    }
   ],
   "source": [
    "df.show()"
   ]
  },
  {
   "cell_type": "code",
   "execution_count": 89,
   "id": "a7a00b63",
   "metadata": {},
   "outputs": [],
   "source": [
    "json_data = [\n",
    "    '{\"name\": \"Alice\", \"age\": 25, \"address\": {\"city\": \"New York\", \"state\": \"NY\"}}',\n",
    "    '{\"name\": \"Bob\", \"age\": 30, \"address\": {\"city\": \"San Francisco\", \"state\": \"CA\"}}',\n",
    "    '{\"name\": \"Charlie\", \"age\": 35, \"address\": {\"city\": \"Los Angeles\", \"state\": \"CA\"}}'\n",
    "]"
   ]
  },
  {
   "cell_type": "code",
   "execution_count": 90,
   "id": "80e92d1d",
   "metadata": {},
   "outputs": [],
   "source": [
    "schema = StructType([\n",
    "    StructField(\"name\", StringType(), True),\n",
    "    StructField(\"age\", IntegerType(), True),\n",
    "    StructField(\"address\", StructType([\n",
    "        StructField(\"city\", StringType(), True),\n",
    "        StructField(\"state\", StringType(), True)\n",
    "    ]), True)\n",
    "])\n"
   ]
  },
  {
   "cell_type": "code",
   "execution_count": 91,
   "id": "9e810221",
   "metadata": {},
   "outputs": [],
   "source": [
    "df = spark.read.schema(schema).json(spark.sparkContext.parallelize(json_data))"
   ]
  },
  {
   "cell_type": "code",
   "execution_count": 92,
   "id": "ca7230d5",
   "metadata": {},
   "outputs": [
    {
     "name": "stdout",
     "output_type": "stream",
     "text": [
      "+-------+---+-------------------+\n",
      "|   name|age|            address|\n",
      "+-------+---+-------------------+\n",
      "|  Alice| 25|     {New York, NY}|\n",
      "|    Bob| 30|{San Francisco, CA}|\n",
      "|Charlie| 35|  {Los Angeles, CA}|\n",
      "+-------+---+-------------------+\n",
      "\n"
     ]
    }
   ],
   "source": [
    "df.show()"
   ]
  },
  {
   "cell_type": "code",
   "execution_count": null,
   "id": "5a96630a",
   "metadata": {},
   "outputs": [],
   "source": []
  }
 ],
 "metadata": {
  "kernelspec": {
   "display_name": "Python 3 (ipykernel)",
   "language": "python",
   "name": "python3"
  },
  "language_info": {
   "codemirror_mode": {
    "name": "ipython",
    "version": 3
   },
   "file_extension": ".py",
   "mimetype": "text/x-python",
   "name": "python",
   "nbconvert_exporter": "python",
   "pygments_lexer": "ipython3",
   "version": "3.11.4"
  }
 },
 "nbformat": 4,
 "nbformat_minor": 5
}
