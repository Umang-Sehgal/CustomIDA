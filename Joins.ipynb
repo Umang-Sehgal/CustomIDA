{
 "cells": [
  {
   "cell_type": "code",
   "execution_count": 1,
   "id": "ef514061",
   "metadata": {},
   "outputs": [
    {
     "name": "stderr",
     "output_type": "stream",
     "text": [
      "Setting default log level to \"WARN\".\n",
      "To adjust logging level use sc.setLogLevel(newLevel). For SparkR, use setLogLevel(newLevel).\n",
      "23/09/22 10:50:59 WARN NativeCodeLoader: Unable to load native-hadoop library for your platform... using builtin-java classes where applicable\n"
     ]
    }
   ],
   "source": [
    "import findspark\n",
    "findspark.init()\n",
    "from pyspark.sql import SparkSession\n",
    "spark = SparkSession.builder.appName(\"JoinApp\").getOrCreate()\n",
    "sc=spark.sparkContext"
   ]
  },
  {
   "cell_type": "code",
   "execution_count": 2,
   "id": "2c65027a",
   "metadata": {},
   "outputs": [
    {
     "name": "stderr",
     "output_type": "stream",
     "text": [
      "                                                                                \r"
     ]
    }
   ],
   "source": [
    "customerDf = spark.read.option(\"sep\",\"\\t\").option(\"header\",True).option(\"inferSchema\",True).csv(\"/home/labuser/Downloads/Sales/customer.csv\")\n",
    "lineitemDf = spark.read.option(\"sep\",\"\\t\").option(\"header\",True).option(\"inferSchema\",True).csv(\"/home/labuser/Downloads/Sales/lineitem.csv\")\n",
    "nationDf = spark.read.option(\"sep\",\"\\t\").option(\"header\",True).option(\"inferSchema\",True).csv(\"/home/labuser/Downloads/Sales/nation.csv\")\n",
    "ordersDf = spark.read.option(\"sep\",\"\\t\").option(\"header\",True).option(\"inferSchema\",True).csv(\"/home/labuser/Downloads/Sales/orders.csv\")\n",
    "partDf = spark.read.option(\"sep\",\"\\t\").option(\"header\",True).option(\"inferSchema\",True).csv(\"/home/labuser/Downloads/Sales/part.csv\")\n",
    "partsuppDf = spark.read.option(\"sep\",\"\\t\").option(\"header\",True).option(\"inferSchema\",True).csv(\"/home/labuser/Downloads/Sales/partsupp.csv\")\n",
    "regionDf = spark.read.option(\"sep\",\"\\t\").option(\"header\",True).option(\"inferSchema\",True).csv(\"/home/labuser/Downloads/Sales/region.csv\")\n",
    "supplierDf = spark.read.option(\"sep\",\"\\t\").option(\"header\",True).option(\"inferSchema\",True).csv(\"/home/labuser/Downloads/Sales/supplier.csv\")"
   ]
  },
  {
   "cell_type": "code",
   "execution_count": 3,
   "id": "72a09644",
   "metadata": {},
   "outputs": [
    {
     "name": "stdout",
     "output_type": "stream",
     "text": [
      "root\n",
      " |-- C_CUSTKEY: integer (nullable = true)\n",
      " |-- C_NAME: string (nullable = true)\n",
      " |-- C_ADDRESS: string (nullable = true)\n",
      " |-- C_NATIONKEY: integer (nullable = true)\n",
      " |-- C_PHONE: string (nullable = true)\n",
      " |-- C_ACCTBAL: double (nullable = true)\n",
      " |-- C_MKTSEGMENT: string (nullable = true)\n",
      " |-- C_COMMENT: string (nullable = true)\n",
      "\n"
     ]
    }
   ],
   "source": [
    "customerDf.printSchema()"
   ]
  },
  {
   "cell_type": "code",
   "execution_count": 4,
   "id": "853111f6",
   "metadata": {},
   "outputs": [
    {
     "name": "stdout",
     "output_type": "stream",
     "text": [
      "root\n",
      " |-- L_ORDERKEY: integer (nullable = true)\n",
      " |-- L_PARTKEY: integer (nullable = true)\n",
      " |-- L_SUPPKEY: integer (nullable = true)\n",
      " |-- L_LINENUMBER: integer (nullable = true)\n",
      " |-- L_QUANTITY: double (nullable = true)\n",
      " |-- L_EXTENDEDPRICE: double (nullable = true)\n",
      " |-- L_DISCOUNT: double (nullable = true)\n",
      " |-- L_TAX: double (nullable = true)\n",
      " |-- L_RETURNFLAG: string (nullable = true)\n",
      " |-- L_LINESTATUS: string (nullable = true)\n",
      " |-- L_SHIPDATE: date (nullable = true)\n",
      " |-- L_COMMITDATE: date (nullable = true)\n",
      " |-- L_RECEIPTDATE: date (nullable = true)\n",
      " |-- L_SHIPINSTRUCT: string (nullable = true)\n",
      " |-- L_SHIPMODE: string (nullable = true)\n",
      " |-- L_COMMENT: string (nullable = true)\n",
      "\n"
     ]
    }
   ],
   "source": [
    "lineitemDf.printSchema()"
   ]
  },
  {
   "cell_type": "code",
   "execution_count": 5,
   "id": "b8ea4cb6",
   "metadata": {},
   "outputs": [
    {
     "name": "stdout",
     "output_type": "stream",
     "text": [
      "root\n",
      " |-- N_NATIONKEY: integer (nullable = true)\n",
      " |-- N_NAME: string (nullable = true)\n",
      " |-- N_REGIONKEY: integer (nullable = true)\n",
      " |-- N_COMMENT: string (nullable = true)\n",
      "\n"
     ]
    }
   ],
   "source": [
    "nationDf.printSchema()"
   ]
  },
  {
   "cell_type": "code",
   "execution_count": 6,
   "id": "38e8a1cd",
   "metadata": {},
   "outputs": [
    {
     "name": "stdout",
     "output_type": "stream",
     "text": [
      "root\n",
      " |-- O_ORDERKEY: integer (nullable = true)\n",
      " |-- O_CUSTKEY: integer (nullable = true)\n",
      " |-- O_ORDERSTATUS: string (nullable = true)\n",
      " |-- O_TOTALPRICE: double (nullable = true)\n",
      " |-- O_ORDERDATE: date (nullable = true)\n",
      " |-- O_ORDERPRIORITY: string (nullable = true)\n",
      " |-- O_CLERK: string (nullable = true)\n",
      " |-- O_SHIPPRIORITY: integer (nullable = true)\n",
      " |-- O_COMMENT: string (nullable = true)\n",
      "\n"
     ]
    }
   ],
   "source": [
    "ordersDf.printSchema()"
   ]
  },
  {
   "cell_type": "code",
   "execution_count": 7,
   "id": "0a4f9eb7",
   "metadata": {},
   "outputs": [
    {
     "name": "stdout",
     "output_type": "stream",
     "text": [
      "+---------+------------------+-----------------+-----------+---------------+---------+------------+--------------------+-------+---------+-----------+-----------+\n",
      "|C_CUSTKEY|            C_NAME|        C_ADDRESS|C_NATIONKEY|        C_PHONE|C_ACCTBAL|C_MKTSEGMENT|           C_COMMENT| Nation|Order_Key|Total_Price|Line_Number|\n",
      "+---------+------------------+-----------------+-----------+---------------+---------+------------+--------------------+-------+---------+-----------+-----------+\n",
      "|        1|Customer#000000001|IVhzIApeRb ot,c,E|         15|25-989-741-2988|   711.56|    BUILDING|to the even, regu...|MOROCCO|    53283|  165928.33|          4|\n",
      "|        1|Customer#000000001|IVhzIApeRb ot,c,E|         15|25-989-741-2988|   711.56|    BUILDING|to the even, regu...|MOROCCO|    53283|  165928.33|          3|\n",
      "|        1|Customer#000000001|IVhzIApeRb ot,c,E|         15|25-989-741-2988|   711.56|    BUILDING|to the even, regu...|MOROCCO|    53283|  165928.33|          2|\n",
      "+---------+------------------+-----------------+-----------+---------------+---------+------------+--------------------+-------+---------+-----------+-----------+\n",
      "only showing top 3 rows\n",
      "\n"
     ]
    }
   ],
   "source": [
    "cusInfoDf = nationDf.join(customerDf,nationDf.N_NATIONKEY == customerDf.C_NATIONKEY).join(ordersDf, customerDf.C_CUSTKEY == ordersDf.O_CUSTKEY).join(lineitemDf,ordersDf.O_ORDERKEY == lineitemDf.L_ORDERKEY).select(customerDf[\"*\"],nationDf[\"N_NAME\"].alias(\"Nation\"),ordersDf[\"O_ORDERKEY\"].alias(\"Order_Key\"),ordersDf[\"O_TOTALPRICE\"].alias(\"Total_Price\"),lineitemDf[\"L_LINENUMBER\"].alias(\"Line_Number\"))\n",
    "cusInfoDf.show(3)"
   ]
  },
  {
   "cell_type": "code",
   "execution_count": 8,
   "id": "973226e4",
   "metadata": {},
   "outputs": [
    {
     "name": "stdout",
     "output_type": "stream",
     "text": [
      "root\n",
      " |-- C_CUSTKEY: integer (nullable = true)\n",
      " |-- C_NAME: string (nullable = true)\n",
      " |-- C_ADDRESS: string (nullable = true)\n",
      " |-- C_NATIONKEY: integer (nullable = true)\n",
      " |-- C_PHONE: string (nullable = true)\n",
      " |-- C_ACCTBAL: double (nullable = true)\n",
      " |-- C_MKTSEGMENT: string (nullable = true)\n",
      " |-- C_COMMENT: string (nullable = true)\n",
      " |-- Nation: string (nullable = true)\n",
      " |-- Order_Key: integer (nullable = true)\n",
      " |-- Total_Price: double (nullable = true)\n",
      " |-- Line_Number: integer (nullable = true)\n",
      "\n"
     ]
    }
   ],
   "source": [
    "cusInfoDf.printSchema()"
   ]
  },
  {
   "cell_type": "code",
   "execution_count": 9,
   "id": "673cbaf9",
   "metadata": {},
   "outputs": [
    {
     "name": "stdout",
     "output_type": "stream",
     "text": [
      "+---------+------------------+-----------------+-----------+---------------+---------+------------+--------------------+-------+---------+-----------+-----------+\n",
      "|C_CUSTKEY|            C_NAME|        C_ADDRESS|C_NATIONKEY|        C_PHONE|C_ACCTBAL|C_MKTSEGMENT|           C_COMMENT| Nation|Order_Key|Total_Price|Line_Number|\n",
      "+---------+------------------+-----------------+-----------+---------------+---------+------------+--------------------+-------+---------+-----------+-----------+\n",
      "|        1|Customer#000000001|IVhzIApeRb ot,c,E|         15|25-989-741-2988|   711.56|    BUILDING|to the even, regu...|MOROCCO|    53283|  165928.33|          4|\n",
      "|        1|Customer#000000001|IVhzIApeRb ot,c,E|         15|25-989-741-2988|   711.56|    BUILDING|to the even, regu...|MOROCCO|    53283|  165928.33|          3|\n",
      "|        1|Customer#000000001|IVhzIApeRb ot,c,E|         15|25-989-741-2988|   711.56|    BUILDING|to the even, regu...|MOROCCO|    53283|  165928.33|          2|\n",
      "|        1|Customer#000000001|IVhzIApeRb ot,c,E|         15|25-989-741-2988|   711.56|    BUILDING|to the even, regu...|MOROCCO|    53283|  165928.33|          1|\n",
      "|        1|Customer#000000001|IVhzIApeRb ot,c,E|         15|25-989-741-2988|   711.56|    BUILDING|to the even, regu...|MOROCCO|    52263|   51134.82|          1|\n",
      "|        1|Customer#000000001|IVhzIApeRb ot,c,E|         15|25-989-741-2988|   711.56|    BUILDING|to the even, regu...|MOROCCO|    43879|   83095.85|          2|\n",
      "|        1|Customer#000000001|IVhzIApeRb ot,c,E|         15|25-989-741-2988|   711.56|    BUILDING|to the even, regu...|MOROCCO|    43879|   83095.85|          1|\n",
      "|        1|Customer#000000001|IVhzIApeRb ot,c,E|         15|25-989-741-2988|   711.56|    BUILDING|to the even, regu...|MOROCCO|    36422|  270087.44|          7|\n",
      "|        1|Customer#000000001|IVhzIApeRb ot,c,E|         15|25-989-741-2988|   711.56|    BUILDING|to the even, regu...|MOROCCO|    36422|  270087.44|          6|\n",
      "|        1|Customer#000000001|IVhzIApeRb ot,c,E|         15|25-989-741-2988|   711.56|    BUILDING|to the even, regu...|MOROCCO|    36422|  270087.44|          5|\n",
      "|        1|Customer#000000001|IVhzIApeRb ot,c,E|         15|25-989-741-2988|   711.56|    BUILDING|to the even, regu...|MOROCCO|    36422|  270087.44|          4|\n",
      "|        1|Customer#000000001|IVhzIApeRb ot,c,E|         15|25-989-741-2988|   711.56|    BUILDING|to the even, regu...|MOROCCO|    36422|  270087.44|          3|\n",
      "|        1|Customer#000000001|IVhzIApeRb ot,c,E|         15|25-989-741-2988|   711.56|    BUILDING|to the even, regu...|MOROCCO|    36422|  270087.44|          2|\n",
      "|        1|Customer#000000001|IVhzIApeRb ot,c,E|         15|25-989-741-2988|   711.56|    BUILDING|to the even, regu...|MOROCCO|    36422|  270087.44|          1|\n",
      "|        1|Customer#000000001|IVhzIApeRb ot,c,E|         15|25-989-741-2988|   711.56|    BUILDING|to the even, regu...|MOROCCO|    34019|   89230.03|          2|\n",
      "|        1|Customer#000000001|IVhzIApeRb ot,c,E|         15|25-989-741-2988|   711.56|    BUILDING|to the even, regu...|MOROCCO|    34019|   89230.03|          1|\n",
      "|        1|Customer#000000001|IVhzIApeRb ot,c,E|         15|25-989-741-2988|   711.56|    BUILDING|to the even, regu...|MOROCCO|    31653|  152411.41|          5|\n",
      "|        1|Customer#000000001|IVhzIApeRb ot,c,E|         15|25-989-741-2988|   711.56|    BUILDING|to the even, regu...|MOROCCO|    31653|  152411.41|          4|\n",
      "|        1|Customer#000000001|IVhzIApeRb ot,c,E|         15|25-989-741-2988|   711.56|    BUILDING|to the even, regu...|MOROCCO|    31653|  152411.41|          3|\n",
      "|        1|Customer#000000001|IVhzIApeRb ot,c,E|         15|25-989-741-2988|   711.56|    BUILDING|to the even, regu...|MOROCCO|    31653|  152411.41|          2|\n",
      "+---------+------------------+-----------------+-----------+---------------+---------+------------+--------------------+-------+---------+-----------+-----------+\n",
      "only showing top 20 rows\n",
      "\n"
     ]
    }
   ],
   "source": [
    "cusInfoDf.show()"
   ]
  },
  {
   "cell_type": "code",
   "execution_count": 10,
   "id": "34f730c3",
   "metadata": {},
   "outputs": [],
   "source": [
    "cusInfoDf = cusInfoDf.withColumnRenamed(\"C_CUSTKEY\",\"Customer_Key\").withColumnRenamed(\"C_NAME\",\"Customer_Name\").withColumnRenamed(\"C_ADDRESS\",\"Customer_Address\").withColumnRenamed(\"C_PHONE\",\"Customer_Phone\")"
   ]
  },
  {
   "cell_type": "code",
   "execution_count": 12,
   "id": "167bbce4",
   "metadata": {},
   "outputs": [],
   "source": [
    "from pyspark.sql.functions import *"
   ]
  },
  {
   "cell_type": "code",
   "execution_count": 13,
   "id": "88a49781",
   "metadata": {},
   "outputs": [],
   "source": [
    "cusInfoDf = cusInfoDf.drop(col(\"C_NATIONKEY\"),col(\"C_ACCTBAL\"),col(\"C_MKTSEGMENT\"),col(\"C_COMMENT\"))"
   ]
  },
  {
   "cell_type": "code",
   "execution_count": 14,
   "id": "65c9443f",
   "metadata": {},
   "outputs": [
    {
     "name": "stdout",
     "output_type": "stream",
     "text": [
      "+------------+--------------------+\n",
      "|Customer_Key|    sum(Total_Price)|\n",
      "+------------+--------------------+\n",
      "|         148|   9389344.430000003|\n",
      "|         463|   9400948.980000002|\n",
      "|         496|1.6688017019999996E7|\n",
      "|         833|   8526686.990000004|\n",
      "|        1088|  4240906.7700000005|\n",
      "|        1238|   8150999.600000001|\n",
      "|        1342|1.3610552759999994E7|\n",
      "|         392|   6364371.840000003|\n",
      "|         623|   9931784.389999999|\n",
      "|         737|1.5131369519999987E7|\n",
      "|        1025|   6676951.369999998|\n",
      "|        1084|1.3664868309999987E7|\n",
      "|        1127|  4099256.4500000016|\n",
      "|        1460|   6807579.039999998|\n",
      "|        1483|1.4234627099999998E7|\n",
      "|          31|   9781158.139999997|\n",
      "|        1139|  3315328.9999999995|\n",
      "|        1270|1.5178320019999996E7|\n",
      "|        1303|1.2708241649999999E7|\n",
      "|        1322|   5575107.279999998|\n",
      "+------------+--------------------+\n",
      "only showing top 20 rows\n",
      "\n"
     ]
    }
   ],
   "source": [
    "totalSpendDf = cusInfoDf.groupBy(\"Customer_Key\").sum(\"Total_Price\")\n",
    "totalSpendDf.show()"
   ]
  },
  {
   "cell_type": "code",
   "execution_count": 15,
   "id": "3c1d8be7",
   "metadata": {},
   "outputs": [
    {
     "name": "stdout",
     "output_type": "stream",
     "text": [
      "+------------+------------------+-----------------+--------------+-------+---------+-----------+-----------+\n",
      "|Customer_Key|     Customer_Name| Customer_Address|Customer_Phone| Nation|Order_Key|Total_Price|Line_Number|\n",
      "+------------+------------------+-----------------+--------------+-------+---------+-----------+-----------+\n",
      "|           1|Customer#000000001|IVhzIApeRb ot,c,E|  259897412988|MOROCCO|    53283|  165928.33|          4|\n",
      "|           1|Customer#000000001|IVhzIApeRb ot,c,E|  259897412988|MOROCCO|    53283|  165928.33|          3|\n",
      "|           1|Customer#000000001|IVhzIApeRb ot,c,E|  259897412988|MOROCCO|    53283|  165928.33|          2|\n",
      "+------------+------------------+-----------------+--------------+-------+---------+-----------+-----------+\n",
      "only showing top 3 rows\n",
      "\n"
     ]
    }
   ],
   "source": [
    "cusInfoDf = cusInfoDf.withColumn(\"Customer_Phone\",regexp_replace(\"Customer_Phone\",\"-\",\"\"))\n",
    "cusInfoDf.show(3)"
   ]
  },
  {
   "cell_type": "code",
   "execution_count": null,
   "id": "cc44cf3b",
   "metadata": {},
   "outputs": [],
   "source": [
    "cusInfoDf.show(4)"
   ]
  },
  {
   "cell_type": "code",
   "execution_count": 16,
   "id": "cf433561",
   "metadata": {},
   "outputs": [
    {
     "name": "stderr",
     "output_type": "stream",
     "text": [
      "                                                                                \r"
     ]
    }
   ],
   "source": [
    "cusInfoDf.write.mode(\"overwrite\").csv(\"/home/labuser/Downloads/Sales/Output\")"
   ]
  },
  {
   "cell_type": "code",
   "execution_count": 17,
   "id": "a236fb53",
   "metadata": {},
   "outputs": [
    {
     "name": "stderr",
     "output_type": "stream",
     "text": [
      "                                                                                \r"
     ]
    }
   ],
   "source": [
    "cusInfoDf.write.mode(\"overwrite\").parquet(\"/home/labuser/Downloads/Sales/Pout\")"
   ]
  },
  {
   "cell_type": "code",
   "execution_count": null,
   "id": "25a79ad3",
   "metadata": {},
   "outputs": [],
   "source": []
  }
 ],
 "metadata": {
  "kernelspec": {
   "display_name": "Python 3 (ipykernel)",
   "language": "python",
   "name": "python3"
  },
  "language_info": {
   "codemirror_mode": {
    "name": "ipython",
    "version": 3
   },
   "file_extension": ".py",
   "mimetype": "text/x-python",
   "name": "python",
   "nbconvert_exporter": "python",
   "pygments_lexer": "ipython3",
   "version": "3.11.4"
  }
 },
 "nbformat": 4,
 "nbformat_minor": 5
}
